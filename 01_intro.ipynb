{
 "cells": [
  {
   "cell_type": "markdown",
   "id": "8507df8a-0eac-4a7e-a866-a78ef3bd9999",
   "metadata": {},
   "source": [
    "# 00.intro\n",
    "\n",
    "## short cut\n",
    "\n",
    "- ctrl + enter : 현재 셀 실행\n",
    "- shift + enter : 현재 셀 실행, 아래로 이동\n",
    "- alt + enter : 현재 셀 실행, 아레에 새로운 셀 추가"
   ]
  },
  {
   "cell_type": "markdown",
   "id": "1a111595-1374-4b25-8276-62fc4a575787",
   "metadata": {},
   "source": [
    "## 주의사항\n",
    "\n",
    "1. Apple/apple\n",
    "2. git add. / git add .\n",
    "3. message/massage"
   ]
  },
  {
   "cell_type": "markdown",
   "id": "3d5b83de-bc96-4346-9b20-0198a3232414",
   "metadata": {},
   "source": [
    "# 01. 변수\n",
    "\n",
    "...\n",
    "var_name = value (오른쪽에 있는 값을 왼쪽에 넣는다)\n",
    "...\n",
    "\n",
    "- 변수이름은 어떤 이름이든 사용가능\n",
    "- 다만 영어, 숫자, _를 이용해서 선언\n",
    "- 키워드는 불가능"
   ]
  },
  {
   "cell_type": "code",
   "execution_count": 76,
   "id": "6ad07eb1-a65a-443b-a9ff-9f4dcfe9024a",
   "metadata": {},
   "outputs": [],
   "source": [
    "a = 100"
   ]
  },
  {
   "cell_type": "code",
   "execution_count": 79,
   "id": "285d9dec-537e-4ab3-8cf9-c5cdbfed2c0d",
   "metadata": {},
   "outputs": [
    {
     "data": {
      "text/plain": [
       "100"
      ]
     },
     "execution_count": 79,
     "metadata": {},
     "output_type": "execute_result"
    }
   ],
   "source": [
    "a"
   ]
  },
  {
   "cell_type": "code",
   "execution_count": 80,
   "id": "1cd741ed-d8f6-46be-b7bd-16e3f18b30ff",
   "metadata": {},
   "outputs": [
    {
     "data": {
      "text/plain": [
       "['False',\n",
       " 'None',\n",
       " 'True',\n",
       " 'and',\n",
       " 'as',\n",
       " 'assert',\n",
       " 'async',\n",
       " 'await',\n",
       " 'break',\n",
       " 'class',\n",
       " 'continue',\n",
       " 'def',\n",
       " 'del',\n",
       " 'elif',\n",
       " 'else',\n",
       " 'except',\n",
       " 'finally',\n",
       " 'for',\n",
       " 'from',\n",
       " 'global',\n",
       " 'if',\n",
       " 'import',\n",
       " 'in',\n",
       " 'is',\n",
       " 'lambda',\n",
       " 'nonlocal',\n",
       " 'not',\n",
       " 'or',\n",
       " 'pass',\n",
       " 'raise',\n",
       " 'return',\n",
       " 'try',\n",
       " 'while',\n",
       " 'with',\n",
       " 'yield']"
      ]
     },
     "execution_count": 80,
     "metadata": {},
     "output_type": "execute_result"
    }
   ],
   "source": [
    "import keyword\n",
    "keyword.kwlist"
   ]
  },
  {
   "cell_type": "markdown",
   "id": "b22befd3-5224-4d46-9421-ff0d9fe3d73d",
   "metadata": {},
   "source": [
    "## 1.1 number"
   ]
  },
  {
   "cell_type": "code",
   "execution_count": null,
   "id": "4489b4cf-6bb5-4658-9113-a13976672eec",
   "metadata": {},
   "outputs": [],
   "source": [
    "a = 10000"
   ]
  },
  {
   "cell_type": "code",
   "execution_count": null,
   "id": "ac9e52d3-21a5-45ad-9879-7bc218fe2832",
   "metadata": {},
   "outputs": [],
   "source": [
    "a"
   ]
  },
  {
   "cell_type": "code",
   "execution_count": null,
   "id": "19e3c334-f08a-459b-aab3-50df56aa2a18",
   "metadata": {},
   "outputs": [],
   "source": [
    "type(a)"
   ]
  },
  {
   "cell_type": "code",
   "execution_count": null,
   "id": "d55b7b7a-f7e4-4507-9f3d-f7d3317d4928",
   "metadata": {},
   "outputs": [],
   "source": [
    "b = 1.1\n",
    "type(b)"
   ]
  },
  {
   "cell_type": "code",
   "execution_count": null,
   "id": "1115dbcb-f2d6-47af-9a4d-0b2624dc7b65",
   "metadata": {},
   "outputs": [],
   "source": []
  },
  {
   "cell_type": "code",
   "execution_count": null,
   "id": "25c9c093-7713-474f-8873-48ae612c4d18",
   "metadata": {},
   "outputs": [],
   "source": [
    "c = 1 + 1j"
   ]
  },
  {
   "cell_type": "code",
   "execution_count": null,
   "id": "477e4c31-b2bf-470a-9804-8c978e114c86",
   "metadata": {},
   "outputs": [],
   "source": [
    "c"
   ]
  },
  {
   "cell_type": "code",
   "execution_count": null,
   "id": "6d731897-dd2a-4286-abd0-227d38e28b62",
   "metadata": {},
   "outputs": [],
   "source": [
    "type(c)"
   ]
  },
  {
   "cell_type": "markdown",
   "id": "e215c922-2dca-4935-9775-79da8ac3cce8",
   "metadata": {},
   "source": [
    "## 1.2 boolean"
   ]
  },
  {
   "cell_type": "code",
   "execution_count": null,
   "id": "678b60cb-d77e-4783-9456-2539d22729bf",
   "metadata": {},
   "outputs": [],
   "source": [
    "a = True"
   ]
  },
  {
   "cell_type": "code",
   "execution_count": null,
   "id": "f9f498d7-a889-4e3d-9047-484b3fbe3d1f",
   "metadata": {},
   "outputs": [],
   "source": [
    "a"
   ]
  },
  {
   "cell_type": "code",
   "execution_count": null,
   "id": "fd77909a-027d-4fcf-a6ed-6be2ff2ccf5a",
   "metadata": {},
   "outputs": [],
   "source": [
    "type(a)"
   ]
  },
  {
   "cell_type": "code",
   "execution_count": null,
   "id": "6798b938-9fcf-4a78-b7a6-bd2b00716170",
   "metadata": {},
   "outputs": [],
   "source": [
    "b = false"
   ]
  },
  {
   "cell_type": "code",
   "execution_count": null,
   "id": "f48c0b64-ddaf-4e19-b5d4-ede9bf874f66",
   "metadata": {},
   "outputs": [],
   "source": [
    "b = False"
   ]
  },
  {
   "cell_type": "markdown",
   "id": "ca8a24ef-3388-4ce2-bc64-5fcba696a8f4",
   "metadata": {},
   "source": [
    "## 1.3 string\n",
    "\n",
    "문자열\n",
    "', \"를 이용하여 표현"
   ]
  },
  {
   "cell_type": "code",
   "execution_count": null,
   "id": "68747909-6600-4c0a-8070-9af45955946b",
   "metadata": {},
   "outputs": [],
   "source": [
    "a = 'hello'"
   ]
  },
  {
   "cell_type": "code",
   "execution_count": null,
   "id": "f1db3434-fdf1-4fe4-bcfb-adf3360e6c87",
   "metadata": {},
   "outputs": [],
   "source": [
    "b = \"hi\""
   ]
  },
  {
   "cell_type": "code",
   "execution_count": null,
   "id": "09b9e0c8-6605-4346-9af5-b92b116ad0e8",
   "metadata": {},
   "outputs": [],
   "source": [
    "a"
   ]
  },
  {
   "cell_type": "code",
   "execution_count": null,
   "id": "879be0f7-b1a7-432a-992d-f8c72343b74e",
   "metadata": {},
   "outputs": [],
   "source": [
    "b"
   ]
  },
  {
   "cell_type": "code",
   "execution_count": null,
   "id": "e7fa2e50-62e9-423e-9cc7-cf591ae48607",
   "metadata": {},
   "outputs": [],
   "source": [
    "print('hello my name is \"seoyoung\"')\n"
   ]
  },
  {
   "cell_type": "code",
   "execution_count": null,
   "id": "8dc1da8a-a240-48ab-b61e-a8b03fe05217",
   "metadata": {},
   "outputs": [],
   "source": [
    "print('hello my name is \\'seoyoung\\'')"
   ]
  },
  {
   "cell_type": "code",
   "execution_count": null,
   "id": "72e6d535-81bd-48c8-ae4f-e5be93299356",
   "metadata": {},
   "outputs": [],
   "source": [
    "a = '''\n",
    "hello\n",
    "hi\n",
    "'''"
   ]
  },
  {
   "cell_type": "code",
   "execution_count": null,
   "id": "6e25bab2-d6be-46bc-a6c8-e5ff8dbcea95",
   "metadata": {},
   "outputs": [],
   "source": [
    "a"
   ]
  },
  {
   "cell_type": "code",
   "execution_count": null,
   "id": "fa6081d7-385d-4651-bca6-f8fe1d81f976",
   "metadata": {},
   "outputs": [],
   "source": [
    "a = 10\n",
    "b = '홍길동은 ?살입니다.'"
   ]
  },
  {
   "cell_type": "code",
   "execution_count": null,
   "id": "a23af572-326f-4274-b3a4-3ba861129588",
   "metadata": {},
   "outputs": [],
   "source": [
    "print(b)"
   ]
  },
  {
   "cell_type": "markdown",
   "id": "83d674cd-4877-4d0d-905e-b536e16e1472",
   "metadata": {},
   "source": [
    "### string interpolation\n",
    "\n",
    "- \n",
    "\n",
    "f-string"
   ]
  },
  {
   "cell_type": "code",
   "execution_count": 23,
   "id": "a7750be2-5e62-4a28-b0c2-f6ac09cadd83",
   "metadata": {},
   "outputs": [],
   "source": [
    "age = 10"
   ]
  },
  {
   "cell_type": "code",
   "execution_count": 26,
   "id": "a0913b4a-22b9-454f-9f28-a729c50f2ade",
   "metadata": {},
   "outputs": [
    {
     "name": "stdout",
     "output_type": "stream",
     "text": [
      "홍길동은10살입니다.\n"
     ]
    }
   ],
   "source": [
    "print('홍길동은%s살입니다.' %age)"
   ]
  },
  {
   "cell_type": "code",
   "execution_count": 25,
   "id": "773b0eec-1006-4059-a512-dd02ec47492a",
   "metadata": {},
   "outputs": [
    {
     "name": "stdout",
     "output_type": "stream",
     "text": [
      "홍길동은 10살입니다.\n"
     ]
    }
   ],
   "source": [
    "print('홍길동은 {}살입니다.' .format(age))"
   ]
  },
  {
   "cell_type": "code",
   "execution_count": 24,
   "id": "07ede9c7-6587-4779-8e6c-1131bd33110c",
   "metadata": {},
   "outputs": [
    {
     "name": "stdout",
     "output_type": "stream",
     "text": [
      "홍길동은 10살입니다.\n"
     ]
    }
   ],
   "source": [
    "print(f'홍길동은 {age}살입니다.')"
   ]
  },
  {
   "cell_type": "markdown",
   "id": "54facf31-a6ef-4125-a3d6-6ef6eb469fb0",
   "metadata": {},
   "source": [
    "# 02. 연산자\n",
    "\n",
    "# 2.1 산술연산자 "
   ]
  },
  {
   "cell_type": "code",
   "execution_count": 1,
   "id": "f3c11aa0-d7e0-4671-a040-6ed898ef1e99",
   "metadata": {},
   "outputs": [],
   "source": [
    "a = 2\n",
    "b = 5"
   ]
  },
  {
   "cell_type": "code",
   "execution_count": 2,
   "id": "b45115ba-2e5b-4b9a-a49c-e3abf53da554",
   "metadata": {},
   "outputs": [
    {
     "name": "stdout",
     "output_type": "stream",
     "text": [
      "7\n",
      "-3\n",
      "10\n",
      "0.4\n"
     ]
    }
   ],
   "source": [
    "print(a + b)\n",
    "print(a - b)\n",
    "print(a * b)\n",
    "print(a / b)"
   ]
  },
  {
   "cell_type": "raw",
   "id": "51453561-a50d-4894-8426-2842190cc8d4",
   "metadata": {},
   "source": [
    "print (a ** b)\n",
    "print (a // b)"
   ]
  },
  {
   "cell_type": "code",
   "execution_count": 3,
   "id": "270e94de-4e54-4768-8a35-624eb9b3cc29",
   "metadata": {},
   "outputs": [
    {
     "name": "stdout",
     "output_type": "stream",
     "text": [
      "(0, 2)\n"
     ]
    }
   ],
   "source": [
    "result = divmod(a, b)\n",
    "print(result)"
   ]
  },
  {
   "cell_type": "markdown",
   "id": "049b80b4-a300-4769-8e2d-bb278e505956",
   "metadata": {},
   "source": [
    "# 2.2 비교연산자\n"
   ]
  },
  {
   "cell_type": "code",
   "execution_count": 4,
   "id": "08d163ea-d329-4638-b56c-8ab1cbe3ed0d",
   "metadata": {},
   "outputs": [],
   "source": [
    "a = 5\n",
    "b = 10"
   ]
  },
  {
   "cell_type": "code",
   "execution_count": 5,
   "id": "9f6d9024-7525-475f-a07d-675180b2b533",
   "metadata": {},
   "outputs": [
    {
     "name": "stdout",
     "output_type": "stream",
     "text": [
      "False\n",
      "True\n"
     ]
    }
   ],
   "source": [
    "print(a > b)\n",
    "print(a < b)"
   ]
  },
  {
   "cell_type": "code",
   "execution_count": 6,
   "id": "c462fb70-2f06-4499-bc8a-8b3ab424e013",
   "metadata": {},
   "outputs": [
    {
     "name": "stdout",
     "output_type": "stream",
     "text": [
      "False\n"
     ]
    }
   ],
   "source": [
    "print(a == b)"
   ]
  },
  {
   "cell_type": "code",
   "execution_count": 7,
   "id": "972f609c-74c0-4c7a-a3ad-6c51a4c2cb77",
   "metadata": {},
   "outputs": [
    {
     "name": "stdout",
     "output_type": "stream",
     "text": [
      "True\n"
     ]
    }
   ],
   "source": [
    "print('hi' == 'hi')"
   ]
  },
  {
   "cell_type": "markdown",
   "id": "886bd045-09f8-4c8b-9d34-0b60ef695511",
   "metadata": {},
   "source": [
    "# 2.3 논리연산자\n",
    "- and : 양쪽 모두 True 일 때, True를 반횐 (내가 특정한 방식을 처리)\n",
    "- or : 양쪽 모두 False 일 때, False를 변환\n",
    "- not : 상태를 부정"
   ]
  },
  {
   "cell_type": "code",
   "execution_count": 12,
   "id": "9225d2cb-d5b3-4901-86d9-54ebfa432bd6",
   "metadata": {},
   "outputs": [
    {
     "name": "stdout",
     "output_type": "stream",
     "text": [
      "True\n",
      "False\n"
     ]
    }
   ],
   "source": [
    "print(True and True)\n",
    "print(True and False)"
   ]
  },
  {
   "cell_type": "raw",
   "id": "53ecb416-856a-4ec2-a186-2eb8b6cfa8c5",
   "metadata": {},
   "source": [
    "print(True or True)"
   ]
  },
  {
   "cell_type": "code",
   "execution_count": 13,
   "id": "392cd301-67c0-4ea0-852b-711bbb6c0e07",
   "metadata": {},
   "outputs": [
    {
     "name": "stdout",
     "output_type": "stream",
     "text": [
      "False\n"
     ]
    }
   ],
   "source": [
    "a = True\n",
    "print(not a)"
   ]
  },
  {
   "cell_type": "code",
   "execution_count": 15,
   "id": "341fa14b-1c72-4bb3-9b40-d1190ce10acf",
   "metadata": {},
   "outputs": [
    {
     "name": "stdout",
     "output_type": "stream",
     "text": [
      "5\n",
      "0\n"
     ]
    }
   ],
   "source": [
    "print(3 and 5)\n",
    "print(0 and 7)"
   ]
  },
  {
   "cell_type": "code",
   "execution_count": 16,
   "id": "7fdaba24-3dbd-4580-9de5-5bc2d0e4fd35",
   "metadata": {},
   "outputs": [
    {
     "name": "stdout",
     "output_type": "stream",
     "text": [
      "3\n",
      "7\n"
     ]
    }
   ],
   "source": [
    "print(3 or 5)\n",
    "print(0 or 7)"
   ]
  },
  {
   "cell_type": "markdown",
   "id": "3e2cd76a-99d2-4b3b-8e4e-29bc0bcd4b0a",
   "metadata": {},
   "source": [
    "# 2.4 복합 연산자"
   ]
  },
  {
   "cell_type": "code",
   "execution_count": 17,
   "id": "720fabeb-5669-4c2f-87f9-d9c5e41843d5",
   "metadata": {},
   "outputs": [],
   "source": [
    "a = 2\n",
    "b = 3"
   ]
  },
  {
   "cell_type": "code",
   "execution_count": 20,
   "id": "6dbd5f4e-ac7c-48a9-b838-8eb241ddf85d",
   "metadata": {},
   "outputs": [],
   "source": [
    "a = a + b \n",
    "a = a - b\n",
    "a = a * b\n",
    "a = a / b"
   ]
  },
  {
   "cell_type": "code",
   "execution_count": 22,
   "id": "99e11aa8-4cf8-4bf9-b033-3348e5def037",
   "metadata": {},
   "outputs": [],
   "source": [
    "a += b\n",
    "a -= b\n",
    "a *= b\n",
    "a /= b\n",
    "a //= b\n",
    "a %= b \n",
    "a **= b"
   ]
  },
  {
   "cell_type": "markdown",
   "id": "5e8e26bc-785e-4e72-b80b-fa5eb42dd48d",
   "metadata": {},
   "source": [
    "## 2.5 기타연산자"
   ]
  },
  {
   "cell_type": "code",
   "execution_count": 40,
   "id": "6b94d61d-b15c-41cf-a368-bcb8d612e4d0",
   "metadata": {},
   "outputs": [],
   "source": [
    "a = 'hi'\n",
    "b = 'hello'"
   ]
  },
  {
   "cell_type": "code",
   "execution_count": 41,
   "id": "219f892e-a2b3-4f6c-8eed-077e29185939",
   "metadata": {},
   "outputs": [],
   "source": [
    "a = {1, 2, 3}\n",
    "b = {2, 3, 4}"
   ]
  },
  {
   "cell_type": "code",
   "execution_count": 43,
   "id": "c0634f08-bc25-4f92-a4e9-088100f359c6",
   "metadata": {},
   "outputs": [
    {
     "name": "stdout",
     "output_type": "stream",
     "text": [
      "True\n"
     ]
    }
   ],
   "source": [
    "print(1 in a)"
   ]
  },
  {
   "cell_type": "code",
   "execution_count": 44,
   "id": "74aec0eb-a568-4fcd-a96f-8e15ea740ca5",
   "metadata": {},
   "outputs": [
    {
     "name": "stdout",
     "output_type": "stream",
     "text": [
      "False\n"
     ]
    }
   ],
   "source": [
    "print(10 in a)"
   ]
  },
  {
   "cell_type": "code",
   "execution_count": 5,
   "id": "94ad0b41-7955-49cd-8e12-952129bff114",
   "metadata": {},
   "outputs": [],
   "source": [
    "a = 257\n",
    "b = 257"
   ]
  },
  {
   "cell_type": "code",
   "execution_count": 6,
   "id": "e333a537-333a-4b5d-b1a5-a4bd5bafa3ad",
   "metadata": {},
   "outputs": [
    {
     "name": "stdout",
     "output_type": "stream",
     "text": [
      "True\n",
      "False\n"
     ]
    }
   ],
   "source": [
    "print(a == b)\n",
    "print(a is b)"
   ]
  },
  {
   "cell_type": "markdown",
   "id": "a485a0aa-8d03-40bf-adde-9f827e571069",
   "metadata": {},
   "source": [
    "### 연산자 우선순위\n",
    "0. ()통해서 그룹\n",
    "1. **\n",
    "2. 산술연산자(*, /)\n",
    "3. 산술연산자(+, -)\n",
    "4. 비교연산자. in, is\n",
    "5. not\n",
    "6. and\n",
    "7. or"
   ]
  },
  {
   "cell_type": "code",
   "execution_count": 54,
   "id": "238262c3-4fe5-481c-b7c2-8d85ff0503f7",
   "metadata": {},
   "outputs": [
    {
     "name": "stdout",
     "output_type": "stream",
     "text": [
      "-81\n"
     ]
    }
   ],
   "source": [
    "print(-3 ** 4)"
   ]
  },
  {
   "cell_type": "code",
   "execution_count": 55,
   "id": "27ee0d36-3fb6-4d03-aebb-7a3b87133269",
   "metadata": {},
   "outputs": [
    {
     "ename": "SyntaxError",
     "evalue": "invalid syntax (125731956.py, line 1)",
     "output_type": "error",
     "traceback": [
      "\u001b[1;36m  Cell \u001b[1;32mIn[55], line 1\u001b[1;36m\u001b[0m\n\u001b[1;33m    print((-3) ** / 4)\u001b[0m\n\u001b[1;37m                  ^\u001b[0m\n\u001b[1;31mSyntaxError\u001b[0m\u001b[1;31m:\u001b[0m invalid syntax\n"
     ]
    }
   ],
   "source": [
    "print((-3) ** / 4)"
   ]
  },
  {
   "cell_type": "markdown",
   "id": "f3335b77-51e6-4e1c-a02f-c5f1211dfdcd",
   "metadata": {},
   "source": [
    "# 3. 형변환"
   ]
  },
  {
   "cell_type": "markdown",
   "id": "e04f5dd1-fcdb-4864-b17b-7b8998a0b46c",
   "metadata": {},
   "source": [
    "## 3.1 암시적 형변환"
   ]
  },
  {
   "cell_type": "code",
   "execution_count": 56,
   "id": "849ea902-5fe0-48e6-8cb6-1c53a5abf713",
   "metadata": {},
   "outputs": [],
   "source": [
    "a = True\n",
    "b = False\n",
    "c = 1"
   ]
  },
  {
   "cell_type": "code",
   "execution_count": 60,
   "id": "77128d33-ee0a-4541-9c1c-d86dbb164e11",
   "metadata": {},
   "outputs": [
    {
     "name": "stdout",
     "output_type": "stream",
     "text": [
      "1\n",
      "2\n"
     ]
    }
   ],
   "source": [
    "print(a + b)\n",
    "print(a + c)"
   ]
  },
  {
   "cell_type": "markdown",
   "id": "ba855d47-e829-4d2d-9bff-b9199d7efb9c",
   "metadata": {},
   "source": [
    "## 3.2 명시적 형변환\n",
    "- int()\n",
    "- float()\n",
    "- str()\n",
    "- bool()"
   ]
  },
  {
   "cell_type": "code",
   "execution_count": 63,
   "id": "a271a8ac-af4e-4504-a5be-435a15a06634",
   "metadata": {},
   "outputs": [],
   "source": [
    "a = 2\n",
    "b = '반'"
   ]
  },
  {
   "cell_type": "code",
   "execution_count": 64,
   "id": "feeebef5-93e3-4119-ae7a-d697baff823d",
   "metadata": {},
   "outputs": [
    {
     "ename": "TypeError",
     "evalue": "unsupported operand type(s) for +: 'int' and 'str'",
     "output_type": "error",
     "traceback": [
      "\u001b[1;31m---------------------------------------------------------------------------\u001b[0m",
      "\u001b[1;31mTypeError\u001b[0m                                 Traceback (most recent call last)",
      "Cell \u001b[1;32mIn[64], line 1\u001b[0m\n\u001b[1;32m----> 1\u001b[0m \u001b[38;5;28mprint\u001b[39m(\u001b[43ma\u001b[49m\u001b[43m \u001b[49m\u001b[38;5;241;43m+\u001b[39;49m\u001b[43m \u001b[49m\u001b[43mb\u001b[49m)\n",
      "\u001b[1;31mTypeError\u001b[0m: unsupported operand type(s) for +: 'int' and 'str'"
     ]
    }
   ],
   "source": [
    "print(a + b)"
   ]
  },
  {
   "cell_type": "code",
   "execution_count": 65,
   "id": "602980ed-9f20-4a27-9b55-aef0b40adf3b",
   "metadata": {},
   "outputs": [
    {
     "name": "stdout",
     "output_type": "stream",
     "text": [
      "2반\n"
     ]
    }
   ],
   "source": [
    "print(str(a) + b)"
   ]
  },
  {
   "cell_type": "code",
   "execution_count": 71,
   "id": "2224d9c3-7295-472f-91ae-ebbf111662a3",
   "metadata": {},
   "outputs": [
    {
     "name": "stdout",
     "output_type": "stream",
     "text": [
      "3\n",
      "<class 'str'>\n"
     ]
    }
   ],
   "source": [
    "a = '3'\n",
    "print(a)\n",
    "print(type(a))"
   ]
  },
  {
   "cell_type": "code",
   "execution_count": 72,
   "id": "5cd9622c-fdb8-4860-9132-c1eb1e0ddc03",
   "metadata": {},
   "outputs": [
    {
     "name": "stdout",
     "output_type": "stream",
     "text": [
      "True\n",
      "False\n",
      "True\n"
     ]
    }
   ],
   "source": [
    "a = 1\n",
    "b = 0\n",
    "c = 123\n",
    "print(bool(a))\n",
    "print(bool(b))\n",
    "print(bool(c))"
   ]
  },
  {
   "cell_type": "code",
   "execution_count": 75,
   "id": "7aa76563-dd1d-4ac6-9349-e0584cb65e4a",
   "metadata": {},
   "outputs": [
    {
     "name": "stdout",
     "output_type": "stream",
     "text": [
      "False\n",
      "True\n"
     ]
    }
   ],
   "source": [
    "print(bool({}))\n",
    "print(bool({1, 2, 3}))"
   ]
  },
  {
   "cell_type": "code",
   "execution_count": null,
   "id": "c508ce63-d9e2-46d3-ac8a-c07f9a176c38",
   "metadata": {},
   "outputs": [],
   "source": []
  }
 ],
 "metadata": {
  "kernelspec": {
   "display_name": "Python 3 (ipykernel)",
   "language": "python",
   "name": "python3"
  },
  "language_info": {
   "codemirror_mode": {
    "name": "ipython",
    "version": 3
   },
   "file_extension": ".py",
   "mimetype": "text/x-python",
   "name": "python",
   "nbconvert_exporter": "python",
   "pygments_lexer": "ipython3",
   "version": "3.13.2"
  }
 },
 "nbformat": 4,
 "nbformat_minor": 5
}
