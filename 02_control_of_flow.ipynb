{
 "cells": [
  {
   "cell_type": "markdown",
   "id": "699449c5-ba3b-4919-8f2f-b95ebfd59a13",
   "metadata": {},
   "source": [
    "# 제어문"
   ]
  },
  {
   "cell_type": "markdown",
   "id": "b8ae0d12-e323-4b23-b8eb-18b886d51012",
   "metadata": {},
   "source": [
    "# 조건표현식\n",
    "\n",
    "- true_value if <조건식> else false_value"
   ]
  },
  {
   "cell_type": "code",
   "execution_count": null,
   "id": "9b4d8872-39b9-45d1-9e69-07b23cb318a4",
   "metadata": {},
   "outputs": [],
   "source": [
    "my_string = input()\n",
    "print(my_string)\n",
    "\n",
    "if my_string == '12/25':\n",
    "    print('merry christmas!')\n",
    "else:\n",
    "    print('No')"
   ]
  },
  {
   "cell_type": "code",
   "execution_count": null,
   "id": "5c573ee7-cd01-4ae5-9cd9-1d792c578a65",
   "metadata": {},
   "outputs": [],
   "source": []
  },
  {
   "cell_type": "code",
   "execution_count": 1,
   "id": "7f7fc5f8-c18d-4ad5-910f-351d2160136f",
   "metadata": {},
   "outputs": [
    {
     "name": "stdout",
     "output_type": "stream",
     "text": [
      "-100\n"
     ]
    }
   ],
   "source": [
    "a = 0\n",
    "if False:\n",
    "    a = 100\n",
    "else:\n",
    "    a = -100\n",
    "print(a)"
   ]
  },
  {
   "cell_type": "code",
   "execution_count": 2,
   "id": "ab9bedb8-5789-472b-be58-74bb4e697728",
   "metadata": {},
   "outputs": [
    {
     "name": "stdout",
     "output_type": "stream",
     "text": [
      "-100\n"
     ]
    }
   ],
   "source": [
    "a = 100 if False else -100\n",
    "print(a)"
   ]
  },
  {
   "cell_type": "code",
   "execution_count": null,
   "id": "296c424a-9f96-4dd3-84cb-4a6cbbf9aeeb",
   "metadata": {},
   "outputs": [],
   "source": [
    "num = int(input())\n",
    "\n",
    "if num >=0:\n",
    "    result = num\n",
    "else:\n",
    "    result = 0\n",
    "print(result)"
   ]
  },
  {
   "cell_type": "code",
   "execution_count": null,
   "id": "f12eed2f-9876-406d-8434-f9f7f4c12fce",
   "metadata": {},
   "outputs": [],
   "source": []
  },
  {
   "cell_type": "markdown",
   "id": "a521bc51-d519-4fb6-8785-7c808077254a",
   "metadata": {},
   "source": [
    "# 반복문\n",
    "\n",
    "## while문"
   ]
  },
  {
   "cell_type": "markdown",
   "id": "128723b3-e836-408a-9f0b-03d1fd13d093",
   "metadata": {},
   "source": [
    "while <조건식>:\n",
    "    실행할 코드"
   ]
  },
  {
   "cell_type": "code",
   "execution_count": null,
   "id": "321d49bd-e985-45aa-a183-e15a75609305",
   "metadata": {},
   "outputs": [],
   "source": [
    "a = 0\n",
    "\n",
    "while a < 5:\n",
    "    print(a)\n",
    "    # a += 1\n",
    "    a = a + 1"
   ]
  },
  {
   "cell_type": "markdown",
   "id": "47c91cbf-2b88-4037-b4ce-33f06c413b46",
   "metadata": {},
   "source": [
    "# for 문\n",
    "- 정해진 범위 내의 반복\n",
    "\n",
    "for variable(item) in sequence:\n",
    "    code\n",
    "\n",
    "for var_name "
   ]
  },
  {
   "cell_type": "code",
   "execution_count": null,
   "id": "c66838dd-b52d-401b-90a9-8f17fd799410",
   "metadata": {},
   "outputs": [],
   "source": [
    "numbers = [1, 2, 3, 4, 5]\n",
    "\n",
    "for number in numbers:\n",
    "    print(number)"
   ]
  },
  {
   "cell_type": "code",
   "execution_count": null,
   "id": "a5feb2a4-5ea9-4046-b10b-125cbf5179a8",
   "metadata": {},
   "outputs": [],
   "source": [
    "word = 'apple'\n",
    "for char in word:\n",
    "    print(char)"
   ]
  },
  {
   "cell_type": "code",
   "execution_count": null,
   "id": "7f2da6fb-94c5-4246-b74f-47bb29982e60",
   "metadata": {},
   "outputs": [],
   "source": [
    "for i in range(5):\n",
    "    print(i)"
   ]
  },
  {
   "cell_type": "code",
   "execution_count": null,
   "id": "a6428f03-608e-44f7-b85f-32af6cb60a05",
   "metadata": {},
   "outputs": [],
   "source": [
    "numbers = range(1, 51)\n",
    "for number in numbers:\n",
    "    if number % 5 == 0:\n",
    "        print(number)"
   ]
  },
  {
   "cell_type": "code",
   "execution_count": null,
   "id": "1daa4619-b315-4ea3-ac14-a4c18bf62573",
   "metadata": {},
   "outputs": [],
   "source": [
    "locations = ['서울', '대전', '부산']\n",
    "for location in enumerate(locations):\n",
    "    print(location)"
   ]
  },
  {
   "cell_type": "code",
   "execution_count": null,
   "id": "fe032f22-516e-4312-a330-286b070f85cf",
   "metadata": {},
   "outputs": [],
   "source": [
    "locations = ['서울', '대전', '부산']\n",
    "for (index, location) in enumerate(locations):\n",
    "    print(index)\n",
    "    print(location)"
   ]
  },
  {
   "cell_type": "markdown",
   "id": "a89447ef-815f-4d0a-8e57-590e9bf0323d",
   "metadata": {},
   "source": [
    "# dictionary 반복\n",
    "1. for key in dict:\n",
    "2. for key in dict.keys():\n",
    "3. for value in dictvalues():"
   ]
  },
  {
   "cell_type": "code",
   "execution_count": null,
   "id": "8cdc5165-ef30-4dc9-9567-184e124353b3",
   "metadata": {},
   "outputs": [],
   "source": [
    "info = {\n",
    "    'name': 'nana',\n",
    "    'location': 'seoul',\n",
    "    'phone': '010 2240 7996',\n",
    "    'age' : 20\n",
    "}"
   ]
  },
  {
   "cell_type": "code",
   "execution_count": null,
   "id": "329d6c5d-96ea-426c-ad14-4081fc1eeaf3",
   "metadata": {},
   "outputs": [],
   "source": [
    "for k in info.keys():\n",
    "    print(k)"
   ]
  },
  {
   "cell_type": "code",
   "execution_count": null,
   "id": "936b9e9d-c5a1-4ba9-acda-e375b15cea94",
   "metadata": {},
   "outputs": [],
   "source": [
    "for v in info.values():\n",
    "    print(v)"
   ]
  },
  {
   "cell_type": "code",
   "execution_count": null,
   "id": "2c5c57c3-2dd5-4064-8afa-bc1aa3817146",
   "metadata": {},
   "outputs": [],
   "source": [
    "for k, v in info.items():\n",
    "    print(k, v)"
   ]
  },
  {
   "cell_type": "code",
   "execution_count": null,
   "id": "e961627c-1ce9-4372-9093-d1c27e0ee513",
   "metadata": {},
   "outputs": [],
   "source": [
    "blood_type = {\n",
    "    'A' : 15,\n",
    "    'B' : 4,\n",
    "    'C' : 5, \n",
    "    'AB' : 5,\n",
    "}"
   ]
  },
  {
   "cell_type": "code",
   "execution_count": null,
   "id": "f49e12b7-6ece-4529-8efc-43d0e249a09c",
   "metadata": {},
   "outputs": [],
   "source": [
    "#혈액형은 ~가 있습니다.\n",
    "print('혈액형 종류는 다음과 같습니다.')\n",
    "\n",
    "for blood in blood_type:\n",
    "    print(blood)"
   ]
  },
  {
   "cell_type": "code",
   "execution_count": null,
   "id": "f4a070db-c92f-4867-94de-48d3cfb84f12",
   "metadata": {},
   "outputs": [],
   "source": [
    "# 총 학생은 몇명 입니다.\n",
    "result = 0\n",
    "for number in blood_type.values():\n",
    "    result = result + number\n",
    "    print(result)"
   ]
  },
  {
   "cell_type": "code",
   "execution_count": null,
   "id": "e58e145d-5d90-414a-9cc8-d74459783af9",
   "metadata": {},
   "outputs": [],
   "source": [
    "for k, v in blood_type.items():\n",
    "    print(f'{k}형은 {v}명입니다.')"
   ]
  },
  {
   "cell_type": "markdown",
   "id": "f732ee53-e139-4f29-927d-527cf61a5270",
   "metadata": {},
   "source": [
    "### break \n",
    "\n",
    " 완전 종료"
   ]
  },
  {
   "cell_type": "code",
   "execution_count": null,
   "id": "c1463186-3f5b-472b-807a-2af2dc63b713",
   "metadata": {},
   "outputs": [],
   "source": [
    "for i in range(100):\n",
    "    print('여기는 for문', i)\n",
    "    if i > 10: \n",
    "        print('여기는 브레이크')\n",
    "        break"
   ]
  },
  {
   "cell_type": "code",
   "execution_count": null,
   "id": "5f272824-6bda-447f-91ef-ba94b8891cc1",
   "metadata": {},
   "outputs": [],
   "source": [
    "while True:\n",
    "    rice = input()\n",
    "    if rice == '쌀':\n",
    "        print('잡았다!!!!!!!')\n",
    "        break\n"
   ]
  },
  {
   "cell_type": "code",
   "execution_count": null,
   "id": "863e6bb9-5329-4692-b935-bdf3bbb44e43",
   "metadata": {},
   "outputs": [],
   "source": [
    "쌀"
   ]
  },
  {
   "cell_type": "markdown",
   "id": "ba50e8cb-7ef5-45dd-89a1-85c427b8535a",
   "metadata": {},
   "source": [
    "### continue\n",
    "\n",
    "continue 이후의 코드를 실행하지 않고 다음 반복을 진행(코드 스킵) 특정친구를 넘기고 싶을때"
   ]
  },
  {
   "cell_type": "code",
   "execution_count": null,
   "id": "4bfa73e2-40d4-4e92-b189-bed7d4e38632",
   "metadata": {},
   "outputs": [],
   "source": [
    "for i in range(20):\n",
    "    if i % 2 ++ 1:\n",
    "        continue\n",
    "    print(i)"
   ]
  },
  {
   "cell_type": "code",
   "execution_count": null,
   "id": "532b1fde-5ad7-4b8d-93b9-4f76b2fdb1d0",
   "metadata": {},
   "outputs": [],
   "source": [
    "ages ="
   ]
  },
  {
   "cell_type": "markdown",
   "id": "07153d33-4e87-4155-843c-b8ef8e585306",
   "metadata": {},
   "source": [
    "### else \n",
    "else 문은 끝까지 반복된 경우 실행됩니다. break를 만나지 않은 경우 실행"
   ]
  },
  {
   "cell_type": "code",
   "execution_count": null,
   "id": "b55052c8-3654-46c4-91a2-d1ae98c8aa7c",
   "metadata": {},
   "outputs": [],
   "source": [
    "for i in range(10):\n",
    "    if i > 5:\n",
    "        break\n",
    "    print(i)\n",
    "else: \n",
    "    print('모두완료')"
   ]
  },
  {
   "cell_type": "code",
   "execution_count": null,
   "id": "84c4e51d-7393-4712-8dc7-23e67b97cbfd",
   "metadata": {},
   "outputs": [],
   "source": []
  }
 ],
 "metadata": {
  "kernelspec": {
   "display_name": "Python 3 (ipykernel)",
   "language": "python",
   "name": "python3"
  },
  "language_info": {
   "codemirror_mode": {
    "name": "ipython",
    "version": 3
   },
   "file_extension": ".py",
   "mimetype": "text/x-python",
   "name": "python",
   "nbconvert_exporter": "python",
   "pygments_lexer": "ipython3",
   "version": "3.13.2"
  }
 },
 "nbformat": 4,
 "nbformat_minor": 5
}
