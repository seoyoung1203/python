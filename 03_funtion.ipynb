{
 "cells": [
  {
   "cell_type": "markdown",
   "id": "ad273ace-b2f5-4fb6-878a-f88168e12c02",
   "metadata": {},
   "source": [
    "# 함수(funtion)"
   ]
  },
  {
   "cell_type": "code",
   "execution_count": 44,
   "id": "75d77c2a-4e8a-4ef0-ade5-c9dd6ed4cc16",
   "metadata": {},
   "outputs": [
    {
     "name": "stdout",
     "output_type": "stream",
     "text": [
      "사각형의 면적은 1000이고 둘레는 140입니다.\n"
     ]
    }
   ],
   "source": [
    "# 사각형의 가로와 세로의 길이를 이용해서 면적과 둘레를 구하는 코드.\n",
    "height = 50\n",
    "width = 20\n",
    "\n",
    "area = height * width\n",
    "perimeter = (height + width) * 2\n",
    "\n",
    "print(f'사각형의 면적은 {area}이고 둘레는 {perimeter}입니다.')"
   ]
  },
  {
   "cell_type": "code",
   "execution_count": 46,
   "id": "193af3dd-8f89-41a0-a976-d074db5c507c",
   "metadata": {},
   "outputs": [
    {
     "name": "stdout",
     "output_type": "stream",
     "text": [
      "사각형의 면적은 2500이고 둘레는 200입니다.\n"
     ]
    }
   ],
   "source": [
    "# 사각형의 가로와 세로의 길이를 이용해서 면적과 둘레를 구하는 코드.\n",
    "height2 = 50\n",
    "width2 = 50\n",
    "\n",
    "area2 = height2 * width2\n",
    "perimeter2 = (height2 + width2) * 2\n",
    "\n",
    "print(f'사각형의 면적은 {area2}이고 둘레는 {perimeter2}입니다.')"
   ]
  },
  {
   "cell_type": "markdown",
   "id": "e99c701f-0010-4bc8-b923-56aea162b90a",
   "metadata": {},
   "source": [
    "## 함수의 선언과 호출"
   ]
  },
  {
   "cell_type": "markdown",
   "id": "26105600-bccc-4f19-9344-b87f7ece99a7",
   "metadata": {},
   "source": [
    "- 선언\n",
    "```python\n",
    "def func_name(parameter1, parameter2, ...):\n",
    "    code1\n",
    "    code2\n",
    "    ...\n",
    "    return value\n",
    "```\n",
    "\n",
    "- 호출\n",
    "      - func_name(parameter1, parameter2, ...)"
   ]
  },
  {
   "cell_type": "code",
   "execution_count": 48,
   "id": "b2239a0a-a381-4da9-9347-e7d13521b56c",
   "metadata": {},
   "outputs": [],
   "source": [
    "# 선언\n",
    "def rectangle(height, width):\n",
    "    area = height * width\n",
    "    perimeter = (height + width) * 2\n",
    "\n",
    "    print(f'사각형의 면적은 {area}입니다. 둘레는 {perimeter}입니다.')"
   ]
  },
  {
   "cell_type": "code",
   "execution_count": 50,
   "id": "65d691e3-cc6c-4444-b9c6-1fa7d470dae4",
   "metadata": {},
   "outputs": [
    {
     "name": "stdout",
     "output_type": "stream",
     "text": [
      "사각형의 면적은 1500입니다. 둘레는 160입니다.\n",
      "사각형의 면적은 2000입니다. 둘레는 240입니다.\n"
     ]
    }
   ],
   "source": [
    "rectangle(50, 30)\n",
    "rectangle(20, 100)"
   ]
  },
  {
   "cell_type": "code",
   "execution_count": 52,
   "id": "ca7e2e66-5206-4113-971f-02244fab0cd8",
   "metadata": {},
   "outputs": [
    {
     "data": {
      "text/plain": [
       "2"
      ]
     },
     "execution_count": 52,
     "metadata": {},
     "output_type": "execute_result"
    }
   ],
   "source": [
    "max(2, 2)"
   ]
  },
  {
   "cell_type": "code",
   "execution_count": 54,
   "id": "ed059b17-837e-4117-a8f5-b7b1f375d38c",
   "metadata": {},
   "outputs": [],
   "source": [
    "def my_max(num1, num2):\n",
    "    if num1 > num2:\n",
    "        print(num1)\n",
    "    elif num1 < num2:\n",
    "        print(num2)\n",
    "    else:\n",
    "        print('같습니다')"
   ]
  },
  {
   "cell_type": "code",
   "execution_count": 57,
   "id": "2d55ea71-c79e-404a-af62-92a82da66d0b",
   "metadata": {},
   "outputs": [
    {
     "name": "stdout",
     "output_type": "stream",
     "text": [
      "같습니다\n",
      "5\n",
      "9\n"
     ]
    }
   ],
   "source": [
    "my_max(5, 5)\n",
    "my_max(5, 1)\n",
    "my_max(1, 9)"
   ]
  },
  {
   "cell_type": "markdown",
   "id": "b4551089-440f-4cf4-b9dc-66296098947b",
   "metadata": {},
   "source": [
    "## 함수의 return\n",
    "\n",
    "- 함수가 return을 만나면 해당값을 반환하고 함수를 종료\n",
    "- 만약 return이 없는 경우 None을 자동으로 반환\n",
    "- return은 오직 하나의 객체만 반환한다."
   ]
  },
  {
   "cell_type": "code",
   "execution_count": 59,
   "id": "4bc80122-3c06-4e45-9102-9d20a66b5dc8",
   "metadata": {},
   "outputs": [
    {
     "name": "stdout",
     "output_type": "stream",
     "text": [
      "2\n",
      "None\n"
     ]
    }
   ],
   "source": [
    "result = my_max(1, 2)\n",
    "print(result)"
   ]
  },
  {
   "cell_type": "code",
   "execution_count": 61,
   "id": "9705b747-f3cd-48be-b4ab-73499de02ea4",
   "metadata": {},
   "outputs": [],
   "source": [
    "def my_max2(num1, num2):\n",
    "    if num1 > num2:\n",
    "        return num1\n",
    "    else:\n",
    "        return num2"
   ]
  },
  {
   "cell_type": "code",
   "execution_count": 64,
   "id": "c8a0b04b-fd5f-4357-bf3c-3e41afed48ef",
   "metadata": {},
   "outputs": [
    {
     "name": "stdout",
     "output_type": "stream",
     "text": [
      "2\n",
      "None\n"
     ]
    }
   ],
   "source": [
    "result = my_max(1, 2)\n",
    "print(result)"
   ]
  },
  {
   "cell_type": "code",
   "execution_count": 66,
   "id": "3b21cd9a-28fb-427e-a2f7-07ef47725c5f",
   "metadata": {},
   "outputs": [
    {
     "name": "stdout",
     "output_type": "stream",
     "text": [
      "0\n",
      "1\n",
      "2\n",
      "3\n"
     ]
    },
    {
     "data": {
      "text/plain": [
       "3"
      ]
     },
     "execution_count": 66,
     "metadata": {},
     "output_type": "execute_result"
    }
   ],
   "source": [
    "def my_for(x):\n",
    "    for i in range(x):\n",
    "        print(i)\n",
    "        if i == 3:\n",
    "            return i\n",
    "\n",
    "my_for(5)\n",
    "        \n",
    "    "
   ]
  },
  {
   "cell_type": "code",
   "execution_count": 68,
   "id": "71c0ed6c-7f57-447a-a78f-80ea7eeec414",
   "metadata": {},
   "outputs": [],
   "source": [
    "def my_list_max(list1, list2):\n",
    "    list1 = [1, 2, 3]\n",
    "    list2 = [2, 3, 4]\n",
    "\n",
    "    sum_of_list1 = list1[0] + list1[1] + list1[2]\n",
    "    sum_of_list2 = list2[0] + list2[1] + list2[2]\n",
    "\n",
    "    if sum_of_list1 > sum_of_list2:\n",
    "        return list1\n",
    "    else:\n",
    "        return list2"
   ]
  },
  {
   "cell_type": "code",
   "execution_count": 74,
   "id": "2f7e7195-4c2e-460e-b207-2ee2e790c8b5",
   "metadata": {},
   "outputs": [],
   "source": [
    "def my_list_max(list1, list2):\n",
    "    sum_of_list1 = sum(list1)\n",
    "    sum_of_list2 = sum(list2)\n",
    "\n",
    "    if sum_of_list1 > sum_of_list2:\n",
    "        return list1\n",
    "    else:\n",
    "        return list2"
   ]
  },
  {
   "cell_type": "code",
   "execution_count": 75,
   "id": "b9a86bf0-deb2-4428-a3d8-2ee05016542e",
   "metadata": {},
   "outputs": [
    {
     "name": "stdout",
     "output_type": "stream",
     "text": [
      "[55, 44, 22]\n"
     ]
    }
   ],
   "source": [
    "list1 = [55, 44, 22]\n",
    "list2 = [2, 3, 4]\n",
    "\n",
    "result = my_list_max(list1, list2)\n",
    "print(result)"
   ]
  },
  {
   "cell_type": "code",
   "execution_count": 76,
   "id": "4c61023c-7f08-4c69-b6ba-9071733c8234",
   "metadata": {},
   "outputs": [],
   "source": [
    "# my_list_max([55, 44, 22], [2, 3, 4])\n",
    "# # => [2, 3, 4]"
   ]
  },
  {
   "cell_type": "markdown",
   "id": "8ab0c97a-3acf-4a05-be30-21bd7dd4b8a6",
   "metadata": {},
   "source": [
    "### 기본값\n",
    "```python\n",
    "def func_name(p1=v1):\n",
    "    code1\n",
    "    return value\n",
    "```\n"
   ]
  },
  {
   "cell_type": "code",
   "execution_count": 82,
   "id": "45f41bce-ce59-46a5-952d-662196977e18",
   "metadata": {},
   "outputs": [],
   "source": [
    "def greeting(name='무언가'):\n",
    "    return f'{name}님 방가방가.'"
   ]
  },
  {
   "cell_type": "code",
   "execution_count": 84,
   "id": "9983eb49-218a-4152-a7bb-e1374f1de04f",
   "metadata": {},
   "outputs": [
    {
     "data": {
      "text/plain": [
       "'임서영님 방가방가.'"
      ]
     },
     "execution_count": 84,
     "metadata": {},
     "output_type": "execute_result"
    }
   ],
   "source": [
    "greeting('임서영')"
   ]
  },
  {
   "cell_type": "code",
   "execution_count": 88,
   "id": "c281d56e-04d3-4215-b57f-561302e92622",
   "metadata": {},
   "outputs": [
    {
     "name": "stdout",
     "output_type": "stream",
     "text": [
      "안녕하세요.~~~~방가와요.!!!!!!저는 임서영이에요.\n"
     ]
    }
   ],
   "source": [
    "print('안녕하세요.', '방가와요.', sep='~~~~', end='!!!!!!')\n",
    "print('저는 임서영이에요.')"
   ]
  },
  {
   "cell_type": "markdown",
   "id": "e19950d2-b1c7-47ef-8ef5-d7801af024ec",
   "metadata": {},
   "source": [
    "# 정의되지 않은 키워드 인자 처리하기"
   ]
  },
  {
   "cell_type": "code",
   "execution_count": 11,
   "id": "4a30c724-787b-464a-b7bf-635b705613b2",
   "metadata": {},
   "outputs": [],
   "source": [
    "# 딕셔너리 형태로 여러개의 키워드 인자를 받을 수 있음\n",
    "def func_name(**kwargs):\n",
    "    return value"
   ]
  },
  {
   "cell_type": "code",
   "execution_count": 12,
   "id": "f8f612d9-561e-4ec7-af77-6a88150ad3b4",
   "metadata": {},
   "outputs": [
    {
     "name": "stdout",
     "output_type": "stream",
     "text": [
      "{'name': 'kim', 'age': 20}\n"
     ]
    }
   ],
   "source": [
    "info = dict(name='kim', age=20)\n",
    "print(info)"
   ]
  },
  {
   "cell_type": "code",
   "execution_count": 13,
   "id": "3a7c9800-c87b-4c30-a053-0302fe177514",
   "metadata": {},
   "outputs": [
    {
     "name": "stdout",
     "output_type": "stream",
     "text": [
      "{'asdf': '가나다', 'age': 123, 'test': 'asdf'}\n"
     ]
    }
   ],
   "source": [
    "def my_dict(**kwargs):\n",
    "    print(kwargs)\n",
    "\n",
    "my_dict(asdf= '가나다', age=123, test= 'asdf')"
   ]
  },
  {
   "cell_type": "code",
   "execution_count": 14,
   "id": "ad4f1939-6e5b-4bdd-98b0-1278de3a7907",
   "metadata": {},
   "outputs": [],
   "source": [
    "def my_func(perams1, params2='temp', *numbers, **kwargs):\n",
    "    return 0"
   ]
  },
  {
   "cell_type": "code",
   "execution_count": 15,
   "id": "2b66e40b-c2a2-4289-8605-9f6f151ea7b4",
   "metadata": {},
   "outputs": [
    {
     "data": {
      "text/plain": [
       "0"
      ]
     },
     "execution_count": 15,
     "metadata": {},
     "output_type": "execute_result"
    }
   ],
   "source": [
    "# my func() => params1 부족으로 에러\n",
    "my_func(123)\n",
    "# => params1 = 123, params2 = 'temp' \n",
    "my_func(123, 234)\n",
    "my_func(123, 234, 345, 567, 789, 890)\n"
   ]
  },
  {
   "cell_type": "markdown",
   "id": "3420517d-82fb-43ef-bd27-d3dab8f6b97e",
   "metadata": {},
   "source": [
    "# lambda 표현식\n",
    "- 임시함수, 일회용 함수\n",
    "'''python"
   ]
  },
  {
   "cell_type": "code",
   "execution_count": 16,
   "id": "24213b00-f97b-481e-9480-106b8280e8a3",
   "metadata": {},
   "outputs": [],
   "source": [
    "def my_sum(num1, num2):\n",
    "    return num1 + num2"
   ]
  },
  {
   "cell_type": "code",
   "execution_count": 17,
   "id": "a9693e24-e117-4916-bf14-15f6ccdd1741",
   "metadata": {},
   "outputs": [
    {
     "data": {
      "text/plain": [
       "102"
      ]
     },
     "execution_count": 17,
     "metadata": {},
     "output_type": "execute_result"
    }
   ],
   "source": [
    "my_sum(100, 2)"
   ]
  },
  {
   "cell_type": "code",
   "execution_count": 19,
   "id": "badb1b08-5415-4031-b6d4-cf0be52873f3",
   "metadata": {},
   "outputs": [
    {
     "data": {
      "text/plain": [
       "3"
      ]
     },
     "execution_count": 19,
     "metadata": {},
     "output_type": "execute_result"
    }
   ],
   "source": [
    "(lambda num1, num2: num1 + num2) (1, 2)"
   ]
  },
  {
   "cell_type": "code",
   "execution_count": 20,
   "id": "0cfac920-28de-46b7-94e3-a3d1e1d9ef7d",
   "metadata": {},
   "outputs": [
    {
     "data": {
      "text/plain": [
       "<function __main__.<lambda>(num1, num2)>"
      ]
     },
     "execution_count": 20,
     "metadata": {},
     "output_type": "execute_result"
    }
   ],
   "source": [
    "lambda num1, num2: num1 + num2()"
   ]
  },
  {
   "cell_type": "code",
   "execution_count": 23,
   "id": "a835326a-fad2-42b3-b179-493fd32805ca",
   "metadata": {},
   "outputs": [
    {
     "data": {
      "text/plain": [
       "3"
      ]
     },
     "execution_count": 23,
     "metadata": {},
     "output_type": "execute_result"
    }
   ],
   "source": [
    "(lambda num1, num2: num1 + num2)(1, 2)"
   ]
  },
  {
   "cell_type": "markdown",
   "id": "038a6b43-4025-43c5-a1b5-929e2e0da330",
   "metadata": {},
   "source": [
    "### 타입힌트"
   ]
  },
  {
   "cell_type": "code",
   "execution_count": 21,
   "id": "aebf9f2d-9a7b-48d9-9b8f-dbb1fb009455",
   "metadata": {},
   "outputs": [],
   "source": [
    "def something(a: int, b: int) -> int:\n",
    "    return a + b\n",
    "\n",
    "    something(1, 2)"
   ]
  },
  {
   "cell_type": "code",
   "execution_count": 22,
   "id": "92b81b6a-c3d7-4466-89fb-9db14d00a480",
   "metadata": {},
   "outputs": [
    {
     "data": {
      "text/plain": [
       "'asdfqwer'"
      ]
     },
     "execution_count": 22,
     "metadata": {},
     "output_type": "execute_result"
    }
   ],
   "source": [
    "something('asdf', 'qwer')"
   ]
  },
  {
   "cell_type": "markdown",
   "id": "6217b48f-7b85-40cf-9e1c-69479589279a",
   "metadata": {},
   "source": [
    "### 이름공간(namespace), 스코프(scope)\n",
    "python에서 사용하는 이름들은 이름공간에 저장되어있습니다. LEGB룰에 따라 접근\n",
    "\n",
    "\n",
    "1. Local : 정의된 함수 내부\n",
    "2. Enclosed : 상위 함수\n",
    "3. Global : 함수 밖\n",
    "4. Built-in : python이 기본적으로 가지고 있는 함수"
   ]
  },
  {
   "cell_type": "code",
   "execution_count": 23,
   "id": "348ee9e5-2fa4-489f-a4e2-19eeff9eb70d",
   "metadata": {},
   "outputs": [
    {
     "name": "stdout",
     "output_type": "stream",
     "text": [
      "123\n"
     ]
    }
   ],
   "source": [
    "result = str(123)\n",
    "print(result)"
   ]
  },
  {
   "cell_type": "code",
   "execution_count": 27,
   "id": "dc6b2700-db40-4546-be60-d7596ac2ff12",
   "metadata": {},
   "outputs": [],
   "source": [
    "str = 'hello'"
   ]
  },
  {
   "cell_type": "code",
   "execution_count": 29,
   "id": "a33657b1-931a-428e-bcb8-e3ee01a6362e",
   "metadata": {},
   "outputs": [
    {
     "ename": "TypeError",
     "evalue": "'str' object is not callable",
     "output_type": "error",
     "traceback": [
      "\u001b[1;31m---------------------------------------------------------------------------\u001b[0m",
      "\u001b[1;31mTypeError\u001b[0m                                 Traceback (most recent call last)",
      "Cell \u001b[1;32mIn[29], line 1\u001b[0m\n\u001b[1;32m----> 1\u001b[0m result \u001b[38;5;241m=\u001b[39m \u001b[38;5;28;43mstr\u001b[39;49m\u001b[43m(\u001b[49m\u001b[38;5;241;43m123\u001b[39;49m\u001b[43m)\u001b[49m\n\u001b[0;32m      2\u001b[0m \u001b[38;5;28mprint\u001b[39m(result)\n",
      "\u001b[1;31mTypeError\u001b[0m: 'str' object is not callable"
     ]
    }
   ],
   "source": [
    "result = str(123)\n",
    "print(result)"
   ]
  },
  {
   "cell_type": "code",
   "execution_count": 30,
   "id": "ff03a390-af2d-41c9-97e0-889916055b71",
   "metadata": {},
   "outputs": [],
   "source": [
    "del str"
   ]
  },
  {
   "cell_type": "code",
   "execution_count": 32,
   "id": "1e0c0dfa-bce0-48b6-bc55-42bcded662c1",
   "metadata": {},
   "outputs": [
    {
     "data": {
      "text/plain": [
       "'asdf'"
      ]
     },
     "execution_count": 32,
     "metadata": {},
     "output_type": "execute_result"
    }
   ],
   "source": [
    "a = 1\n",
    "\n",
    "def local_scope(a):\n",
    "    return a\n",
    "\n",
    "a = '가나다라'\n",
    "\n",
    "local_scope('asdf')\n"
   ]
  },
  {
   "cell_type": "code",
   "execution_count": 34,
   "id": "0e02e339-120d-42d1-b2b7-8f64501cac05",
   "metadata": {},
   "outputs": [
    {
     "name": "stdout",
     "output_type": "stream",
     "text": [
      "1\n",
      "2\n",
      "3\n",
      "4\n",
      "5\n",
      "5\n"
     ]
    }
   ],
   "source": [
    "my_list = [1, 2, 3, 4, 5]\n",
    "for i in my_list: \n",
    "    print(i)\n",
    "print(i)"
   ]
  },
  {
   "cell_type": "code",
   "execution_count": 36,
   "id": "6ecf2dbf-3534-4ccc-ba35-0a182efce026",
   "metadata": {},
   "outputs": [
    {
     "data": {
      "text/plain": [
       "1"
      ]
     },
     "execution_count": 36,
     "metadata": {},
     "output_type": "execute_result"
    }
   ],
   "source": [
    "a = 0\n",
    "\n",
    "def global_scope():\n",
    "    global a\n",
    "    a = a + 1\n",
    "    return a\n",
    "\n",
    "global_scope()"
   ]
  },
  {
   "cell_type": "code",
   "execution_count": 37,
   "id": "d334e226-7b63-4351-8554-26518ce6c257",
   "metadata": {},
   "outputs": [
    {
     "data": {
      "text/plain": [
       "1"
      ]
     },
     "execution_count": 37,
     "metadata": {},
     "output_type": "execute_result"
    }
   ],
   "source": [
    "a = 0\n",
    "\n",
    "def global_scope():\n",
    "    global a\n",
    "    a = a + 1\n",
    "    return a\n",
    "\n",
    "global_scope()"
   ]
  },
  {
   "cell_type": "markdown",
   "id": "f1a6b66f-6998-4f3a-9884-181e104cd4ba",
   "metadata": {},
   "source": [
    "### 재귀\n",
    "함수 내부에서 자기 자신을 호출하는 함수\n",
    "\n",
    "```\n",
    "n! = 1 * 2 * 3 * ... * n\n",
    "\n",
    "1! = 1,\n",
    "2! = 1 * 2 = 1! * 2,\n",
    "3! = 1 * 2 * 3 = 2! * 3,\n",
    "n! = (n-1)! * n,\n",
    "```"
   ]
  },
  {
   "cell_type": "code",
   "execution_count": 38,
   "id": "6f4ad5b9-f66b-416a-b2e7-9386da9f7761",
   "metadata": {},
   "outputs": [],
   "source": [
    "def fact(n):\n",
    "    if n == 1: \n",
    "        return 1\n",
    "    else:\n",
    "        return fact(n-1) * n\n"
   ]
  },
  {
   "cell_type": "code",
   "execution_count": 39,
   "id": "df3e61be-2654-4a7f-a15f-0f2121ebb060",
   "metadata": {},
   "outputs": [
    {
     "data": {
      "text/plain": [
       "3628800"
      ]
     },
     "execution_count": 39,
     "metadata": {},
     "output_type": "execute_result"
    }
   ],
   "source": [
    "fact(10)"
   ]
  },
  {
   "cell_type": "code",
   "execution_count": 40,
   "id": "9a33831e-259d-44f0-b6c7-79a1b645e977",
   "metadata": {},
   "outputs": [
    {
     "data": {
      "text/plain": [
       "3628800"
      ]
     },
     "execution_count": 40,
     "metadata": {},
     "output_type": "execute_result"
    }
   ],
   "source": [
    "fact(10)"
   ]
  },
  {
   "cell_type": "code",
   "execution_count": 41,
   "id": "761ef69b-4af2-42c1-83fb-7e1f92eeea07",
   "metadata": {},
   "outputs": [],
   "source": [
    "# 피보나치 수열\n",
    "def fib(n):\n",
    "    if n == 0 or n ==1:\n",
    "        return 1\n",
    "    else:\n",
    "        return fib(n-2) + fib(n-1)"
   ]
  },
  {
   "cell_type": "code",
   "execution_count": 42,
   "id": "739933b5-bc20-407c-accb-c8d638c886b8",
   "metadata": {},
   "outputs": [
    {
     "data": {
      "text/plain": [
       "10946"
      ]
     },
     "execution_count": 42,
     "metadata": {},
     "output_type": "execute_result"
    }
   ],
   "source": [
    "fib(20)"
   ]
  },
  {
   "cell_type": "code",
   "execution_count": null,
   "id": "97fc4770-67f4-44f6-8b0a-2831be691038",
   "metadata": {},
   "outputs": [],
   "source": []
  }
 ],
 "metadata": {
  "kernelspec": {
   "display_name": "Python 3 (ipykernel)",
   "language": "python",
   "name": "python3"
  },
  "language_info": {
   "codemirror_mode": {
    "name": "ipython",
    "version": 3
   },
   "file_extension": ".py",
   "mimetype": "text/x-python",
   "name": "python",
   "nbconvert_exporter": "python",
   "pygments_lexer": "ipython3",
   "version": "3.13.2"
  }
 },
 "nbformat": 4,
 "nbformat_minor": 5
}
