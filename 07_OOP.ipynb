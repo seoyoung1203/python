{
 "cells": [
  {
   "cell_type": "markdown",
   "id": "196de2ad-de23-4ae5-8ba3-fa3c1d59628d",
   "metadata": {},
   "source": [
    "# 객체지향 프로그래밍 (OOP)\n",
    "\n",
    "- 클래스(class) : 같은 종류의 집단에 속하는 '속성'과 '행동'을 '정의'한 것\n",
    "- 속성 (attribute) : 클래스/인스턴스가 가지고 있는 데이터/값\n",
    "- 행동 (method) : 클래스/인스턴스가 가지고 있는 함수/기능(함수=method, method->객체 안에 있는)\n",
    "- 인스턴스 (instance) : 클래스를 실제로 메모리상에 할당한 것"
   ]
  },
  {
   "cell_type": "code",
   "execution_count": 1,
   "id": "5e064f1c-6292-4925-8e76-ae0c46501898",
   "metadata": {},
   "outputs": [],
   "source": [
    "number = 1 + 2j"
   ]
  },
  {
   "cell_type": "code",
   "execution_count": 2,
   "id": "1086344a-3797-4a3b-8d5b-c470d03d812e",
   "metadata": {},
   "outputs": [
    {
     "name": "stdout",
     "output_type": "stream",
     "text": [
      "<class 'complex'>\n"
     ]
    }
   ],
   "source": [
    "print(type(number)) # 복소수"
   ]
  },
  {
   "cell_type": "code",
   "execution_count": 3,
   "id": "184852fb-f94e-4b9f-87b0-9223c216d809",
   "metadata": {},
   "outputs": [
    {
     "name": "stdout",
     "output_type": "stream",
     "text": [
      "1.0\n",
      "2.0\n"
     ]
    }
   ],
   "source": [
    "print(number.real) #실수부 # 값에 접근하기 때문에 뒤 괄호 x\n",
    "print(number.imag) #허수부"
   ]
  },
  {
   "cell_type": "code",
   "execution_count": 4,
   "id": "7141ced6-3b3d-4163-8a37-648fe2727b29",
   "metadata": {},
   "outputs": [],
   "source": [
    "numbers = [1, 2, 3]"
   ]
  },
  {
   "cell_type": "code",
   "execution_count": 5,
   "id": "1fa3fcfc-a0d6-4c9a-930b-a56e00d25e8b",
   "metadata": {},
   "outputs": [
    {
     "name": "stdout",
     "output_type": "stream",
     "text": [
      "<class 'list'>\n"
     ]
    }
   ],
   "source": [
    "print(type(numbers))"
   ]
  },
  {
   "cell_type": "code",
   "execution_count": 6,
   "id": "ee4d6b80-21cd-4c5c-81c6-0ecee672896a",
   "metadata": {},
   "outputs": [
    {
     "name": "stdout",
     "output_type": "stream",
     "text": [
      "[3, 2, 1]\n"
     ]
    }
   ],
   "source": [
    "numbers.reverse() # 함수를 실행할때는 소괄호 필요\n",
    "print(numbers)"
   ]
  },
  {
   "cell_type": "code",
   "execution_count": 213,
   "id": "76d1f170-63ad-4005-a7b4-23b4581cac49",
   "metadata": {},
   "outputs": [
    {
     "name": "stdout",
     "output_type": "stream",
     "text": [
      "(from_num)가 (to_num)한테 전화 거는중\n"
     ]
    }
   ],
   "source": [
    "number = '010-2240-7996'\n",
    "power = True\n",
    "phone_book = {\n",
    "    'lim': '010-2324-2344',\n",
    "    'kim': '010-5435-5432',\n",
    "}\n",
    "\n",
    "def call(from_num, to_num):\n",
    "    print(f'(from_num)가 (to_num)한테 전화 거는중')\n",
    "\n",
    "call(number, phone_book['lim'])"
   ]
  },
  {
   "cell_type": "markdown",
   "id": "a12ae768-3b89-4735-9214-86fda94d59c6",
   "metadata": {},
   "source": [
    "## class\n",
    "\n",
    "- 클래스 선언/정의\n",
    "```python\n",
    "class ClassName():\n",
    "    attribute1 = value1\n",
    "    attribute2 = value2\n",
    "    ```\n",
    "    def method_name1(self):\n",
    "        code\n",
    "\n",
    "    def method_name2(self):\n",
    "        code\n",
    "    ```\n",
    "```\n",
    "\n",
    "- 인스턴스화 (클래스 실행)\n",
    "  \n",
    "  c = ClassName()"
   ]
  },
  {
   "cell_type": "code",
   "execution_count": 216,
   "id": "532014f1-b012-4401-ab05-f426fb1f66e2",
   "metadata": {},
   "outputs": [],
   "source": [
    "# 선언\n",
    "class MyClass():\n",
    "    name = 'kim'\n",
    "\n",
    "    def hello(self):\n",
    "        return 'hihihihihi'"
   ]
  },
  {
   "cell_type": "code",
   "execution_count": 217,
   "id": "c7f0cba7-66f3-43d3-aeda-9d3604cac661",
   "metadata": {},
   "outputs": [],
   "source": [
    "# 인스턴스화\n",
    "m = MyClass()"
   ]
  },
  {
   "cell_type": "code",
   "execution_count": 218,
   "id": "2458f89e-62b6-41cd-9e54-b2231bdb7d53",
   "metadata": {},
   "outputs": [
    {
     "name": "stdout",
     "output_type": "stream",
     "text": [
      "<__main__.MyClass object at 0x00000263DD8AE510>\n"
     ]
    }
   ],
   "source": [
    "print(m)"
   ]
  },
  {
   "cell_type": "code",
   "execution_count": 219,
   "id": "6f8b9768-afa9-465c-bd7f-8c5593aa3fdf",
   "metadata": {},
   "outputs": [
    {
     "name": "stdout",
     "output_type": "stream",
     "text": [
      "<class '__main__.MyClass'>\n"
     ]
    }
   ],
   "source": [
    "print(type(m))"
   ]
  },
  {
   "cell_type": "code",
   "execution_count": 220,
   "id": "776749f9-3d7d-4a9f-a300-60572efa5a72",
   "metadata": {},
   "outputs": [
    {
     "data": {
      "text/plain": [
       "'kim'"
      ]
     },
     "execution_count": 220,
     "metadata": {},
     "output_type": "execute_result"
    }
   ],
   "source": [
    "m.name"
   ]
  },
  {
   "cell_type": "code",
   "execution_count": 221,
   "id": "d5ed3421-8254-4311-a18f-a3922782ba0a",
   "metadata": {},
   "outputs": [
    {
     "name": "stdout",
     "output_type": "stream",
     "text": [
      "kim\n",
      "hihihihihi\n"
     ]
    }
   ],
   "source": [
    "print(m.name)\n",
    "print(m.hello())"
   ]
  },
  {
   "cell_type": "code",
   "execution_count": 222,
   "id": "785561f2-9948-4ea1-94b4-bd769fd2531c",
   "metadata": {},
   "outputs": [
    {
     "name": "stdout",
     "output_type": "stream",
     "text": [
      "kim\n",
      "hihihihihi\n"
     ]
    }
   ],
   "source": [
    "m2 = MyClass()\n",
    "print(m2.name)\n",
    "print(m2.hello())"
   ]
  },
  {
   "cell_type": "code",
   "execution_count": 225,
   "id": "418185b9-7a36-4152-88bf-407876b9d740",
   "metadata": {},
   "outputs": [
    {
     "name": "stdout",
     "output_type": "stream",
     "text": [
      "kim\n",
      "park\n"
     ]
    }
   ],
   "source": [
    "m2.name = 'park'\n",
    "\n",
    "print(m.name)\n",
    "print(m2.name)\n",
    "# instance화"
   ]
  },
  {
   "cell_type": "code",
   "execution_count": 226,
   "id": "4d611ee2-519e-482d-a638-3df9cad2dd1f",
   "metadata": {},
   "outputs": [],
   "source": [
    "class phone(): # 정의\n",
    "    power = False\n",
    "    number = '010-0000-0000'\n",
    "    book = {}\n",
    "    model = ''\n",
    "\n",
    "    def on(self):#instance자기자신\n",
    "        if self.power == False:\n",
    "            self.power = True\n",
    "\n",
    "    def off(self):\n",
    "        if self.power == True:\n",
    "            self.power = False\n",
    "\n",
    "    def call(self, target):\n",
    "        if self.power == True:\n",
    "            print(f'{self.number}가 {target.number}한테 전화거는중...')\n",
    "        else:\n",
    "            print('핸드폰이 꺼져있습니다')"
   ]
  },
  {
   "cell_type": "code",
   "execution_count": 235,
   "id": "dc1e222f-b455-4a9b-ac73-7838b96fe697",
   "metadata": {},
   "outputs": [],
   "source": [
    "my_phone = phone()\n",
    "your_phone = phone()"
   ]
  },
  {
   "cell_type": "code",
   "execution_count": 236,
   "id": "8cffe579-55f0-4cdb-9d2a-5405049b491b",
   "metadata": {},
   "outputs": [
    {
     "data": {
      "text/plain": [
       "'010-0000-0000'"
      ]
     },
     "execution_count": 236,
     "metadata": {},
     "output_type": "execute_result"
    }
   ],
   "source": [
    "my_phone.number"
   ]
  },
  {
   "cell_type": "code",
   "execution_count": 237,
   "id": "73b05244-5a13-4cad-91b2-36f6f3c38497",
   "metadata": {},
   "outputs": [
    {
     "data": {
      "text/plain": [
       "'010-0000-0000'"
      ]
     },
     "execution_count": 237,
     "metadata": {},
     "output_type": "execute_result"
    }
   ],
   "source": [
    "your_phone.number"
   ]
  },
  {
   "cell_type": "code",
   "execution_count": 238,
   "id": "62517ba4-9dff-4a22-8c77-57282cff1b77",
   "metadata": {},
   "outputs": [
    {
     "name": "stdout",
     "output_type": "stream",
     "text": [
      "010-2034-2034\n"
     ]
    }
   ],
   "source": [
    "my_phone.number = '010-2034-2034'\n",
    "print(my_phone.number)"
   ]
  },
  {
   "cell_type": "code",
   "execution_count": 239,
   "id": "cf21af75-4731-4f54-a533-29a970a7a095",
   "metadata": {},
   "outputs": [
    {
     "data": {
      "text/plain": [
       "False"
      ]
     },
     "execution_count": 239,
     "metadata": {},
     "output_type": "execute_result"
    }
   ],
   "source": [
    "my_phone.power"
   ]
  },
  {
   "cell_type": "code",
   "execution_count": 240,
   "id": "c8031489-11a4-4c2e-ba27-aed0f05292ef",
   "metadata": {},
   "outputs": [],
   "source": [
    "my_phone.on()"
   ]
  },
  {
   "cell_type": "code",
   "execution_count": 241,
   "id": "6ed1cc63-d8f6-4b3e-935f-b339bf3b7c20",
   "metadata": {},
   "outputs": [
    {
     "data": {
      "text/plain": [
       "True"
      ]
     },
     "execution_count": 241,
     "metadata": {},
     "output_type": "execute_result"
    }
   ],
   "source": [
    "my_phone.power"
   ]
  },
  {
   "cell_type": "code",
   "execution_count": 242,
   "id": "ed6ce486-9d9d-405c-91c3-e4270e411cca",
   "metadata": {},
   "outputs": [
    {
     "data": {
      "text/plain": [
       "False"
      ]
     },
     "execution_count": 242,
     "metadata": {},
     "output_type": "execute_result"
    }
   ],
   "source": [
    "your_phone.power"
   ]
  },
  {
   "cell_type": "code",
   "execution_count": 243,
   "id": "7220364b-6427-49e4-930c-f121eefbd5b8",
   "metadata": {},
   "outputs": [
    {
     "name": "stdout",
     "output_type": "stream",
     "text": [
      "010-2034-2034가 010-0000-0000한테 전화거는중...\n"
     ]
    }
   ],
   "source": [
    "my_phone.call(your_phone)"
   ]
  },
  {
   "cell_type": "code",
   "execution_count": 245,
   "id": "08c758fb-2042-497a-96a8-8aedbe943ddf",
   "metadata": {},
   "outputs": [
    {
     "name": "stdout",
     "output_type": "stream",
     "text": [
      "핸드폰이 꺼져있습니다\n"
     ]
    }
   ],
   "source": [
    "your_phone.call(my_phone)"
   ]
  },
  {
   "cell_type": "code",
   "execution_count": 246,
   "id": "165cf6f3-916a-4b7d-9e83-a96e44e30615",
   "metadata": {},
   "outputs": [],
   "source": [
    "class Person():\n",
    "    name = ''\n",
    "    gender = ''\n",
    "    age = 0\n",
    "    height = 0\n",
    "\n",
    "    def greeting(self):\n",
    "        print(f'안녕하세요. 나는 {self.name}입니다.')\n",
    "\n",
    "    def grow(self):\n",
    "        self.age += 1 "
   ]
  },
  {
   "cell_type": "code",
   "execution_count": 247,
   "id": "6cf9afd5-0e4b-4df6-bfde-e43042a64fac",
   "metadata": {},
   "outputs": [],
   "source": [
    "p1 = Person()\n",
    "p2 = Person()"
   ]
  },
  {
   "cell_type": "code",
   "execution_count": 248,
   "id": "5c1b4242-5959-4e38-890d-80486c408c51",
   "metadata": {},
   "outputs": [
    {
     "name": "stdout",
     "output_type": "stream",
     "text": [
      " \n"
     ]
    }
   ],
   "source": [
    "print(p1.name, p2.name)"
   ]
  },
  {
   "cell_type": "code",
   "execution_count": 254,
   "id": "eb962da5-cc2b-4e46-b38e-d368ad1093aa",
   "metadata": {},
   "outputs": [],
   "source": [
    "p1.name = 'hong'\n",
    "p2.name = 'kim'\n",
    "\n",
    "p1.gender = 'M'\n",
    "p2. gender = 'F'\n",
    "\n",
    "p1.age = '24'\n",
    "p2.age = '23'\n",
    "\n",
    "p1.height = '186'\n",
    "p2.height = '156'\n"
   ]
  },
  {
   "cell_type": "code",
   "execution_count": 255,
   "id": "304cd090-2db6-476e-9af7-b678e4c9c464",
   "metadata": {},
   "outputs": [
    {
     "name": "stdout",
     "output_type": "stream",
     "text": [
      "안녕하세요. 나는 hong입니다.\n"
     ]
    }
   ],
   "source": [
    "p1.greeting()"
   ]
  },
  {
   "cell_type": "code",
   "execution_count": 257,
   "id": "333cc6d9-6730-49d8-b371-5c7c46ea2453",
   "metadata": {},
   "outputs": [
    {
     "ename": "TypeError",
     "evalue": "'str' object is not callable",
     "output_type": "error",
     "traceback": [
      "\u001b[1;31m---------------------------------------------------------------------------\u001b[0m",
      "\u001b[1;31mTypeError\u001b[0m                                 Traceback (most recent call last)",
      "Cell \u001b[1;32mIn[257], line 1\u001b[0m\n\u001b[1;32m----> 1\u001b[0m \u001b[43mp2\u001b[49m\u001b[38;5;241;43m.\u001b[39;49m\u001b[43mage\u001b[49m\u001b[43m(\u001b[49m\u001b[43m)\u001b[49m\n",
      "\u001b[1;31mTypeError\u001b[0m: 'str' object is not callable"
     ]
    }
   ],
   "source": [
    "p2.age()"
   ]
  },
  {
   "cell_type": "markdown",
   "id": "b7429296-3ab3-47aa-973e-379ed4ec795b",
   "metadata": {},
   "source": [
    "## 생성자, 소멸자\n",
    "\n",
    "```python\n",
    "class MyClass():\n",
    "\n",
    "    def __init__(self):\n",
    "        pass\n",
    "    def __del__(self):\n",
    "        pass\n",
    "```"
   ]
  },
  {
   "cell_type": "code",
   "execution_count": 258,
   "id": "cf0111ca-5f87-4aff-ad4d-8ccfbbab3f36",
   "metadata": {},
   "outputs": [],
   "source": [
    "#생성자\n",
    "class Person():\n",
    "    name = ''\n",
    "\n",
    "    def __init__(self,n):#(self.name)\n",
    "        self.name = n #name\n",
    "        print('생성됨')\n",
    "\n",
    "#소멸자\n",
    "    def __del__(self):\n",
    "        print('소멸됨')"
   ]
  },
  {
   "cell_type": "code",
   "execution_count": 259,
   "id": "f381deaf-241e-42b7-93e6-356982db15fd",
   "metadata": {},
   "outputs": [],
   "source": [
    "p1 = Person #->Person.__init__(p1, ??????)"
   ]
  },
  {
   "cell_type": "code",
   "execution_count": 262,
   "id": "f619df02-5aba-431f-aea0-1a8600a31193",
   "metadata": {},
   "outputs": [
    {
     "name": "stdout",
     "output_type": "stream",
     "text": [
      "생성됨\n",
      "소멸됨\n",
      "생성됨\n",
      "소멸됨\n"
     ]
    }
   ],
   "source": [
    "p1 = Person('kim')\n",
    "p2 = Person('park')"
   ]
  },
  {
   "cell_type": "code",
   "execution_count": 263,
   "id": "789040c2-71a5-4411-bcb8-505a02f32a71",
   "metadata": {},
   "outputs": [
    {
     "name": "stdout",
     "output_type": "stream",
     "text": [
      "소멸됨\n"
     ]
    }
   ],
   "source": [
    "del p1"
   ]
  },
  {
   "cell_type": "code",
   "execution_count": 264,
   "id": "d979f6e1-ec46-4a7a-ad5c-341fe2babffc",
   "metadata": {},
   "outputs": [
    {
     "name": "stdout",
     "output_type": "stream",
     "text": [
      "소멸됨\n"
     ]
    }
   ],
   "source": [
    "del p2"
   ]
  },
  {
   "cell_type": "code",
   "execution_count": 265,
   "id": "d1304e04-adda-4f21-a721-c7819242af2a",
   "metadata": {},
   "outputs": [],
   "source": [
    "class Circle():\n",
    "    pi = 3.14\n",
    "    \n",
    "    def __init__(self, r, x, y): #x=0, y=0 뒤 info 동일하게 적용됨\n",
    "        self.r = r\n",
    "        self.x = x\n",
    "        self.y = y\n",
    "\n",
    "    def info(self):\n",
    "        print(f'반지름: {self.r}, 중심점: {self.x}, {self.y}')\n",
    "\n",
    "    def area(self):\n",
    "        return self.r **2 * self.pi #각각의 원 \n",
    "\n",
    "    def round(self):\n",
    "        return self.r * self.pi *2\n",
    "\n",
    "    def move(self, x, y):\n",
    "        self.x = x\n",
    "        self.y = y"
   ]
  },
  {
   "cell_type": "code",
   "execution_count": 266,
   "id": "40d5f92d-0ea1-47b4-a721-c96ae61a64eb",
   "metadata": {},
   "outputs": [],
   "source": [
    "c1 = Circle(5, 0, 0)\n",
    "c2 = Circle(3, 1, 1)"
   ]
  },
  {
   "cell_type": "code",
   "execution_count": 267,
   "id": "848039dc-ea85-4bf4-8e9a-eb70afc3bb8a",
   "metadata": {},
   "outputs": [
    {
     "name": "stdout",
     "output_type": "stream",
     "text": [
      "반지름: 5, 중심점: 0, 0\n",
      "반지름: 3, 중심점: 1, 1\n"
     ]
    }
   ],
   "source": [
    "c1.info()\n",
    "c2.info()"
   ]
  },
  {
   "cell_type": "code",
   "execution_count": 268,
   "id": "5c8259ca-8726-4057-8077-a6a909440fac",
   "metadata": {},
   "outputs": [
    {
     "name": "stdout",
     "output_type": "stream",
     "text": [
      "78.5\n",
      "28.26\n"
     ]
    }
   ],
   "source": [
    "print(c1.area()) #retern이기 때문에 print 사용\n",
    "print(c2.area())"
   ]
  },
  {
   "cell_type": "code",
   "execution_count": 269,
   "id": "ce4fe9bc-6023-4a11-8303-5264efd556ee",
   "metadata": {},
   "outputs": [
    {
     "name": "stdout",
     "output_type": "stream",
     "text": [
      "31.400000000000002\n",
      "18.84\n"
     ]
    }
   ],
   "source": [
    "print(c1.round())\n",
    "print(c2.round())"
   ]
  },
  {
   "cell_type": "code",
   "execution_count": 270,
   "id": "a4177ba7-b2d2-42b1-9023-eea766b29528",
   "metadata": {},
   "outputs": [
    {
     "name": "stdout",
     "output_type": "stream",
     "text": [
      "반지름: 5, 중심점: 100, 100\n"
     ]
    }
   ],
   "source": [
    "c1.move(100, 100)\n",
    "c1.info()"
   ]
  },
  {
   "cell_type": "code",
   "execution_count": 271,
   "id": "4694c3d1-b252-474d-b745-abb812e8b0bb",
   "metadata": {},
   "outputs": [],
   "source": [
    "class Point():\n",
    "    def __init__(self, x, y):\n",
    "        self.x = x\n",
    "        self.y = y\n",
    "\n",
    "    def info(self):\n",
    "        print(f'{self.x}, {self.y}')"
   ]
  },
  {
   "cell_type": "code",
   "execution_count": 272,
   "id": "bea9e587-7c77-4942-9b5f-f93b122102d0",
   "metadata": {},
   "outputs": [],
   "source": [
    "p1 = Point(1, 1)\n",
    "p2 = Point(2, 3)"
   ]
  },
  {
   "cell_type": "code",
   "execution_count": 274,
   "id": "99eeb20e-9f1b-4bc7-a03e-0691b525385a",
   "metadata": {},
   "outputs": [],
   "source": [
    "class Circle():\n",
    "    def __init__(self, r, point): # 변수를 가르키기 때문에 소문자 사용.(변수 접근)\n",
    "        self.r = r\n",
    "        self.point = point\n",
    "\n",
    "    def info(self):\n",
    "        point = self.point\n",
    "        print(f'반지름: {self.r} 중심점: {self.point.x}, {self.point.y}')"
   ]
  },
  {
   "cell_type": "code",
   "execution_count": 275,
   "id": "593148ae-65a0-45f4-a11e-5abfcbe08e8f",
   "metadata": {},
   "outputs": [],
   "source": [
    "c1 = Circle(10, p1)\n",
    "c2 = Circle(5, p2)"
   ]
  },
  {
   "cell_type": "code",
   "execution_count": 276,
   "id": "a2d2b52f-d272-43f4-b0d6-f3d6834d02b1",
   "metadata": {},
   "outputs": [
    {
     "name": "stdout",
     "output_type": "stream",
     "text": [
      "반지름: 10 중심점: 1, 1\n"
     ]
    }
   ],
   "source": [
    "c1.info()"
   ]
  },
  {
   "cell_type": "markdown",
   "id": "2f89976a-dd83-4460-b376-57862336216c",
   "metadata": {},
   "source": [
    "### 클래스 변수/ 인스턴스 변수\n",
    "\n",
    "- 클래스 변수 : 클래스 선언 블록 최상단에 위치\n",
    "- 인스턴스 변수 : 인스턴스 내부에서 생성한 변수\n",
    "\n",
    "```python\n",
    "class MyClass():\n",
    "    class_variable = '클래스변수'\n",
    "\n",
    "    def __init__(self):\n",
    "        self.instance_variable = '인스턴스변수'"
   ]
  },
  {
   "cell_type": "code",
   "execution_count": 280,
   "id": "3b37e7f8-9aac-4903-b74e-6466348b0d7a",
   "metadata": {},
   "outputs": [],
   "source": [
    "class Person():\n",
    "    name = 'hong'\n",
    "    age = 10\n",
    "\n",
    "    def __init__(self,name):\n",
    "        self.name = name"
   ]
  },
  {
   "cell_type": "code",
   "execution_count": 281,
   "id": "d30b5906-72ba-4c11-acac-51983a303924",
   "metadata": {},
   "outputs": [
    {
     "name": "stdout",
     "output_type": "stream",
     "text": [
      "oh\n",
      "10\n"
     ]
    }
   ],
   "source": [
    "p1 = Person('oh')\n",
    "print(p1.name)\n",
    "print(p1.age)"
   ]
  },
  {
   "cell_type": "markdown",
   "id": "3b75a3e6-c3c4-454b-957d-c1b91b73d92a",
   "metadata": {},
   "source": [
    "### 클래스 메소드/ 인스턴드 메소드/ 스태틱메소드\n",
    "\n",
    "```python\n",
    "class MyClass():\n",
    "    def instance_method(self): #instance 자기자신\n",
    "        pass\n",
    "\n",
    "    @classmethod\n",
    "    def class_method(cls): #class 객체\n",
    "        pass\n",
    "\n",
    "    @statinmethod\n",
    "    def static_method():\n",
    "        pass"
   ]
  },
  {
   "cell_type": "code",
   "execution_count": 284,
   "id": "68dc6883-820f-493b-aa51-2347efad55c4",
   "metadata": {},
   "outputs": [],
   "source": [
    "class MyClass():\n",
    "    def instance_method(self):\n",
    "        print(self)\n",
    "\n",
    "    @classmethod\n",
    "    def class_method(cls):\n",
    "        print(cls)\n",
    "\n",
    "    @staticmethod\n",
    "    def static_method():\n",
    "        print('static')"
   ]
  },
  {
   "cell_type": "code",
   "execution_count": null,
   "id": "d3451545-00e0-4260-bf67-0514ed512e6e",
   "metadata": {},
   "outputs": [],
   "source": []
  },
  {
   "cell_type": "code",
   "execution_count": null,
   "id": "83bbd284-fc36-4e4d-a527-8c2bd4e88358",
   "metadata": {},
   "outputs": [],
   "source": []
  },
  {
   "cell_type": "code",
   "execution_count": null,
   "id": "3f086b06-247c-4b46-a4eb-fab965c11ed0",
   "metadata": {},
   "outputs": [],
   "source": []
  },
  {
   "cell_type": "code",
   "execution_count": null,
   "id": "6d38b06c-95e4-4c6c-a6bf-24f1acee2c69",
   "metadata": {},
   "outputs": [],
   "source": []
  },
  {
   "cell_type": "code",
   "execution_count": 285,
   "id": "b3cb3feb-2c3f-44b9-b367-80ef5e9d99b2",
   "metadata": {},
   "outputs": [],
   "source": [
    "class Puppy():\n",
    "    num_of_puppy = 0 #상위개념\n",
    "    \n",
    "    def __init__(self, name):\n",
    "        self.name = name\n",
    "        Puppy.num_of_puppy += 1\n",
    "\n",
    "    @classmethod\n",
    "    def info(cls):\n",
    "        print(f'현재 강아지는 {cls.num_of_puppy}마리입니다')\n",
    "\n",
    "    def bark(self):\n",
    "        print(f'멍멍! {self.name}입니다')\n",
    "\n",
    "    @staticmethod\n",
    "    def bark2():\n",
    "        print('왈왈!')\n",
    "    "
   ]
  },
  {
   "cell_type": "code",
   "execution_count": 286,
   "id": "24adf280-afea-406d-a67a-1a6aae3aa0f5",
   "metadata": {},
   "outputs": [
    {
     "name": "stdout",
     "output_type": "stream",
     "text": [
      "현재 강아지는 3마리입니다\n"
     ]
    }
   ],
   "source": [
    "p1 = Puppy('초코')\n",
    "p2 = Puppy('구름')\n",
    "p3 = Puppy('인절미')#instance를 찍어내는 과정, 독립적인 객체\n",
    "\n",
    "Puppy.info()"
   ]
  },
  {
   "cell_type": "code",
   "execution_count": 163,
   "id": "b1d44d51-eb43-4f88-82fa-9e2c42ef58e1",
   "metadata": {},
   "outputs": [
    {
     "name": "stdout",
     "output_type": "stream",
     "text": [
      "멍멍! 초코입니다\n"
     ]
    }
   ],
   "source": [
    "p1.bark()"
   ]
  },
  {
   "cell_type": "code",
   "execution_count": 164,
   "id": "c51f0bc6-ade1-423d-ba59-6109e8698795",
   "metadata": {},
   "outputs": [
    {
     "name": "stdout",
     "output_type": "stream",
     "text": [
      "멍멍! 구름입니다\n"
     ]
    }
   ],
   "source": [
    "p2.bark()"
   ]
  },
  {
   "cell_type": "markdown",
   "id": "adfc0085-5c89-4a31-8787-98ee9b0a7fee",
   "metadata": {},
   "source": [
    "- 클래스\n",
    "\n",
    "    - 데이터/변수/속성/attribute\n",
    "        - 클래스변수\n",
    "        - 인스턴스변수\n",
    "    - 기능/동작.함수/method\n",
    "        - 클래스변수에 접근하려면 클래스메소드 사용\n",
    "        - 인스턴스변수에 접근하려면 인스턴스메소드 사용\n",
    "        - 둘 다 필요없는 경우 스태틱메소드 사용\n",
    "\n",
    "      "
   ]
  },
  {
   "cell_type": "markdown",
   "id": "69e0e1d4-8fb9-4238-84d2-a0be3b9c79fd",
   "metadata": {},
   "source": [
    "## 상속\n",
    "- 부모가 만들어온 정보 가져오기\n",
    "\n",
    "  + 여기에 내가 원하는 정보 추가 가능\n",
    "  + 내가 직접 만든 메소드 ->우선순위가 더 높음(overwriting)"
   ]
  },
  {
   "cell_type": "code",
   "execution_count": 170,
   "id": "c00130d2-529a-42f9-84bc-5b6783cafcf6",
   "metadata": {},
   "outputs": [],
   "source": [
    "class Person():\n",
    "    ident = ''\n",
    "\n",
    "    def __init__(self, name):\n",
    "        self.name = name\n",
    "\n",
    "    def greeting(self):\n",
    "        print(f'안녕하세여. {self.name}입니다.')"
   ]
  },
  {
   "cell_type": "code",
   "execution_count": 171,
   "id": "d4a9ce52-e571-4f3c-af30-603651d4c9e9",
   "metadata": {},
   "outputs": [],
   "source": [
    "p1 = Person('hong')\n",
    "p2 = Person('kim')"
   ]
  },
  {
   "cell_type": "code",
   "execution_count": 206,
   "id": "a39c8909-add9-4f54-9abe-6634ea1d5e81",
   "metadata": {},
   "outputs": [
    {
     "name": "stdout",
     "output_type": "stream",
     "text": [
      "안녕하세여. hong입니다.\n",
      "안녕하세여. kim입니다.\n"
     ]
    }
   ],
   "source": [
    "p1.greeting()\n",
    "p2.greeting()"
   ]
  },
  {
   "cell_type": "code",
   "execution_count": 207,
   "id": "c7e92042-73b1-46ba-8129-777a07431a51",
   "metadata": {},
   "outputs": [
    {
     "data": {
      "text/plain": [
       "'9999999-1111111'"
      ]
     },
     "execution_count": 207,
     "metadata": {},
     "output_type": "execute_result"
    }
   ],
   "source": [
    "p1.ident = '9999999-1111111'\n",
    "p1.ident"
   ]
  },
  {
   "cell_type": "code",
   "execution_count": 208,
   "id": "35c859a2-7bf2-44a5-a8a4-e4ad18ee266e",
   "metadata": {},
   "outputs": [],
   "source": [
    "class Soldier(Person):\n",
    "    def greeting(self):\n",
    "        print(f'충성!!!! {self.name}입니다.')\n",
    "\n",
    "    # ident = ''\n",
    "    # def __init__(self, name):\n",
    "    #     self.name = name\n",
    "\n",
    "    # def greeting(self):\n",
    "    #     print(f'안녕하세여. {self.name}입니다.')"
   ]
  },
  {
   "cell_type": "code",
   "execution_count": 209,
   "id": "3ffcbe90-e7de-466a-b4c2-4fe3d1b5d6f7",
   "metadata": {},
   "outputs": [
    {
     "name": "stdout",
     "output_type": "stream",
     "text": [
      "충성!!!! 굳건이입니다.\n"
     ]
    }
   ],
   "source": [
    "s1 = Soldier('굳건이')\n",
    "s1.greeting()"
   ]
  },
  {
   "cell_type": "code",
   "execution_count": 211,
   "id": "3c4f9c72-a9de-423e-a955-a985869c6b67",
   "metadata": {},
   "outputs": [
    {
     "data": {
      "text/plain": [
       "'25-24324324'"
      ]
     },
     "execution_count": 211,
     "metadata": {},
     "output_type": "execute_result"
    }
   ],
   "source": [
    "s1.ident = '25-24324324'\n",
    "s1.ident"
   ]
  },
  {
   "cell_type": "code",
   "execution_count": 297,
   "id": "7e6e73dc-ca46-40af-a838-b47af4f48557",
   "metadata": {},
   "outputs": [],
   "source": [
    "class Person():\n",
    "    def __init__(self, name, age, email, phone):\n",
    "        self.name = name\n",
    "        self.age = age\n",
    "        self.email = email\n",
    "        self.phone = phone\n",
    "\n",
    "class Student(Person):\n",
    "    def __init__(self, name, age, email, phone, student_id):\n",
    "        super().__init__(self, name, age, email, phone) # self.name = name\n",
    "                                                        # self.age = age\n",
    "                                                        # self.email = email\n",
    "                                                        # self.phone = phone\n",
    "        self.student_id = student_id"
   ]
  },
  {
   "cell_type": "markdown",
   "id": "993aa5ea-2cea-4e3c-9a84-aff2fe95b5bf",
   "metadata": {},
   "source": [
    "### 다중상속"
   ]
  },
  {
   "cell_type": "code",
   "execution_count": 198,
   "id": "db077557-3b07-4a61-9b3f-6642d962ca0d",
   "metadata": {},
   "outputs": [],
   "source": [
    "class Person():\n",
    "    def __init__(self,name):\n",
    "        self.name = name\n",
    "\n",
    "    def breath(self):\n",
    "        print('후하')"
   ]
  },
  {
   "cell_type": "code",
   "execution_count": 199,
   "id": "3dd58ae7-b196-435b-8ee5-df0f3cb516e6",
   "metadata": {},
   "outputs": [],
   "source": [
    "class Mom(Person):\n",
    "    gene = 'xx'\n",
    "\n",
    "    def swim(self):\n",
    "        print('어푸어푸')\n"
   ]
  },
  {
   "cell_type": "code",
   "execution_count": 202,
   "id": "38adae26-1862-4115-a114-256031768b5e",
   "metadata": {},
   "outputs": [],
   "source": [
    "class Dad(Person):\n",
    "    gene = 'xy'\n",
    "\n",
    "    def run(self):\n",
    "        print('우다다다')"
   ]
  },
  {
   "cell_type": "code",
   "execution_count": 203,
   "id": "fe48d4e4-9203-4d1e-8edf-7ba679ed0d40",
   "metadata": {},
   "outputs": [],
   "source": [
    "class Child(Dad, Mom):\n",
    "    pass"
   ]
  },
  {
   "cell_type": "code",
   "execution_count": 204,
   "id": "682fe908-5d50-4ebf-994e-5305091c8201",
   "metadata": {},
   "outputs": [
    {
     "name": "stdout",
     "output_type": "stream",
     "text": [
      "후하\n",
      "우다다다\n",
      "어푸어푸\n"
     ]
    }
   ],
   "source": [
    "c = Child('금쪽이')\n",
    "c.breath()\n",
    "c.run()\n",
    "c.swim()"
   ]
  },
  {
   "cell_type": "code",
   "execution_count": 312,
   "id": "6a408d2f-a5ef-4042-99da-bb919cbc83ba",
   "metadata": {},
   "outputs": [
    {
     "data": {
      "text/plain": [
       "'xy'"
      ]
     },
     "execution_count": 312,
     "metadata": {},
     "output_type": "execute_result"
    }
   ],
   "source": [
    "c.gene"
   ]
  },
  {
   "cell_type": "code",
   "execution_count": 315,
   "id": "d92018e7-c42b-4577-a0e2-0dcc2a245062",
   "metadata": {},
   "outputs": [],
   "source": [
    "# 책 클래스 정의\n",
    "class Book():\n",
    "    def __init__(self, title):\n",
    "        self.title = title\n",
    "        \n",
    "\n",
    "    def read(self):\n",
    "        print(f\"나는 지금 '{self.title}' 책을 읽고 있습니다.\")"
   ]
  },
  {
   "cell_type": "code",
   "execution_count": 316,
   "id": "b690538d-fd1f-465d-81be-b1e7ecb85bf6",
   "metadata": {},
   "outputs": [],
   "source": [
    "b1 = Book('잭과 콩나무')\n",
    "b2 = Book('어린왕자')"
   ]
  },
  {
   "cell_type": "code",
   "execution_count": 317,
   "id": "92f0064f-fb41-46cb-8555-068756586583",
   "metadata": {},
   "outputs": [
    {
     "name": "stdout",
     "output_type": "stream",
     "text": [
      "나는 지금 '잭과 콩나무' 책을 읽고 있습니다.\n",
      "나는 지금 '어린왕자' 책을 읽고 있습니다.\n"
     ]
    }
   ],
   "source": [
    "b1.read()\n",
    "b2.read()"
   ]
  },
  {
   "cell_type": "code",
   "execution_count": 323,
   "id": "e913f92c-9dcb-4663-9ff0-cf6e4c3bb60f",
   "metadata": {},
   "outputs": [],
   "source": [
    "class Book():\n",
    "    def __init__(self, title, author, pages):\n",
    "        self.title = title\n",
    "        self.author = author\n",
    "        self.pages = pages\n",
    "        \n",
    "\n",
    "    def read(self):\n",
    "        print(f\"나는 지금 '{self.title}' 책을 읽고 있습니다.\")\n",
    "        print(f\"나는 지금 {self.author}의 책을 읽고 있습니다.\")\n",
    "        print(f\"나는 지금 {self.pages}페이지를 읽고 있습니다.\")"
   ]
  },
  {
   "cell_type": "code",
   "execution_count": 324,
   "id": "690839ef-1311-4c88-af17-30784ea98fef",
   "metadata": {},
   "outputs": [
    {
     "ename": "TypeError",
     "evalue": "Book.__init__() missing 2 required positional arguments: 'author' and 'pages'",
     "output_type": "error",
     "traceback": [
      "\u001b[1;31m---------------------------------------------------------------------------\u001b[0m",
      "\u001b[1;31mTypeError\u001b[0m                                 Traceback (most recent call last)",
      "Cell \u001b[1;32mIn[324], line 1\u001b[0m\n\u001b[1;32m----> 1\u001b[0m b1 \u001b[38;5;241m=\u001b[39m \u001b[43mBook\u001b[49m\u001b[43m(\u001b[49m\u001b[38;5;124;43m'\u001b[39;49m\u001b[38;5;124;43m잭과 콩나무\u001b[39;49m\u001b[38;5;124;43m'\u001b[39;49m\u001b[43m)\u001b[49m\n\u001b[0;32m      2\u001b[0m b2 \u001b[38;5;241m=\u001b[39m Book(\u001b[38;5;124m'\u001b[39m\u001b[38;5;124m어린왕자\u001b[39m\u001b[38;5;124m'\u001b[39m)\n",
      "\u001b[1;31mTypeError\u001b[0m: Book.__init__() missing 2 required positional arguments: 'author' and 'pages'"
     ]
    }
   ],
   "source": [
    "b1 = Book('잭과 콩나무')\n",
    "b2 = Book('어린왕자')"
   ]
  },
  {
   "cell_type": "code",
   "execution_count": 327,
   "id": "0e9c64bd-f009-47a9-ab0a-f597a349ffa1",
   "metadata": {},
   "outputs": [],
   "source": [
    "b1 = Book('데미안', '헤르만헤세', '34')"
   ]
  },
  {
   "cell_type": "code",
   "execution_count": 328,
   "id": "d7b242cd-54bd-4a73-bea6-4d98f809269c",
   "metadata": {},
   "outputs": [
    {
     "name": "stdout",
     "output_type": "stream",
     "text": [
      "나는 지금 '데미안' 책을 읽고 있습니다.\n",
      "나는 지금 헤르만헤세의 책을 읽고 있습니다.\n",
      "나는 지금 34페이지를 읽고 있습니다.\n"
     ]
    }
   ],
   "source": [
    "b1.read()"
   ]
  },
  {
   "cell_type": "code",
   "execution_count": null,
   "id": "c247c4c2-f67b-4b4b-95d6-e358a3c9cd74",
   "metadata": {},
   "outputs": [],
   "source": []
  }
 ],
 "metadata": {
  "kernelspec": {
   "display_name": "Python 3 (ipykernel)",
   "language": "python",
   "name": "python3"
  },
  "language_info": {
   "codemirror_mode": {
    "name": "ipython",
    "version": 3
   },
   "file_extension": ".py",
   "mimetype": "text/x-python",
   "name": "python",
   "nbconvert_exporter": "python",
   "pygments_lexer": "ipython3",
   "version": "3.13.2"
  }
 },
 "nbformat": 4,
 "nbformat_minor": 5
}
