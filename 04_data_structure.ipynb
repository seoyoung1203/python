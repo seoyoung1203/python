{
 "cells": [
  {
   "cell_type": "markdown",
   "id": "7e8abc72-5f42-4e64-8e18-cab6a4fc2cde",
   "metadata": {},
   "source": [
    "# 자료구조\n",
    ">여러가지 자료구조가 가지고 있는 메소드(함수) 알아보기 - 기능 알아보기\n"
   ]
  },
  {
   "cell_type": "code",
   "execution_count": 2,
   "id": "7be48ec2-a694-4bd9-b92f-6f98001995a2",
   "metadata": {},
   "outputs": [
    {
     "name": "stdout",
     "output_type": "stream",
     "text": [
      "['__add__', '__class__', '__contains__', '__delattr__', '__dir__', '__doc__', '__eq__', '__format__', '__ge__', '__getattribute__', '__getitem__', '__getnewargs__', '__getstate__', '__gt__', '__hash__', '__init__', '__init_subclass__', '__iter__', '__le__', '__len__', '__lt__', '__mod__', '__mul__', '__ne__', '__new__', '__reduce__', '__reduce_ex__', '__repr__', '__rmod__', '__rmul__', '__setattr__', '__sizeof__', '__str__', '__subclasshook__', 'capitalize', 'casefold', 'center', 'count', 'encode', 'endswith', 'expandtabs', 'find', 'format', 'format_map', 'index', 'isalnum', 'isalpha', 'isascii', 'isdecimal', 'isdigit', 'isidentifier', 'islower', 'isnumeric', 'isprintable', 'isspace', 'istitle', 'isupper', 'join', 'ljust', 'lower', 'lstrip', 'maketrans', 'partition', 'removeprefix', 'removesuffix', 'replace', 'rfind', 'rindex', 'rjust', 'rpartition', 'rsplit', 'rstrip', 'split', 'splitlines', 'startswith', 'strip', 'swapcase', 'title', 'translate', 'upper', 'zfill']\n"
     ]
    }
   ],
   "source": [
    "print(dir('hello'))"
   ]
  },
  {
   "cell_type": "markdown",
   "id": "18b6e272-2258-4c68-80e8-cfec2820b44f",
   "metadata": {},
   "source": [
    "# 문자열 메소드"
   ]
  },
  {
   "cell_type": "code",
   "execution_count": 3,
   "id": "3f673658-a852-4ae8-a62d-831d683e0cf9",
   "metadata": {},
   "outputs": [],
   "source": [
    "a = 'hello my name is seo'"
   ]
  },
  {
   "cell_type": "code",
   "execution_count": 4,
   "id": "a8ea0f29-2aa8-4113-a633-9bc98fb9fb1d",
   "metadata": {},
   "outputs": [
    {
     "name": "stdout",
     "output_type": "stream",
     "text": [
      "hello my name is seo\n"
     ]
    }
   ],
   "source": [
    "print(a)"
   ]
  },
  {
   "cell_type": "code",
   "execution_count": 9,
   "id": "ca0a3c18-b89a-4797-91ea-886673be1c8a",
   "metadata": {},
   "outputs": [
    {
     "data": {
      "text/plain": [
       "'Hello my name is seo'"
      ]
     },
     "execution_count": 9,
     "metadata": {},
     "output_type": "execute_result"
    }
   ],
   "source": [
    "a.capitalize()"
   ]
  },
  {
   "cell_type": "code",
   "execution_count": 10,
   "id": "5b64f783-7025-412f-9b2f-d6af1501997b",
   "metadata": {},
   "outputs": [
    {
     "name": "stdout",
     "output_type": "stream",
     "text": [
      "Hello my name is seo\n"
     ]
    }
   ],
   "source": [
    "print(a)"
   ]
  },
  {
   "cell_type": "code",
   "execution_count": 11,
   "id": "a9460982-fd52-40da-a62b-1f36860bdf82",
   "metadata": {},
   "outputs": [
    {
     "data": {
      "text/plain": [
       "'Hello My Name Is Seo'"
      ]
     },
     "execution_count": 11,
     "metadata": {},
     "output_type": "execute_result"
    }
   ],
   "source": [
    "a.title()"
   ]
  },
  {
   "cell_type": "code",
   "execution_count": 12,
   "id": "688c442d-b595-479c-9055-60e7ca71eeae",
   "metadata": {},
   "outputs": [
    {
     "data": {
      "text/plain": [
       "'hello my name is seo'"
      ]
     },
     "execution_count": 12,
     "metadata": {},
     "output_type": "execute_result"
    }
   ],
   "source": [
    "a.lower()"
   ]
  },
  {
   "cell_type": "code",
   "execution_count": 13,
   "id": "235228ba-a65c-4800-9ed2-6f63658b4906",
   "metadata": {},
   "outputs": [
    {
     "data": {
      "text/plain": [
       "'HELLO MY NAME IS SEO'"
      ]
     },
     "execution_count": 13,
     "metadata": {},
     "output_type": "execute_result"
    }
   ],
   "source": [
    "a.upper()"
   ]
  },
  {
   "cell_type": "code",
   "execution_count": 14,
   "id": "5b501698-5381-45f8-8342-d430be9f8005",
   "metadata": {},
   "outputs": [
    {
     "data": {
      "text/plain": [
       "'my!name!is'"
      ]
     },
     "execution_count": 14,
     "metadata": {},
     "output_type": "execute_result"
    }
   ],
   "source": [
    "my_list = ['my', 'name', 'is']\n",
    "'!'.join(my_list)"
   ]
  },
  {
   "cell_type": "code",
   "execution_count": 15,
   "id": "c3bf824b-4f13-4020-8a77-ddb62700506b",
   "metadata": {},
   "outputs": [
    {
     "data": {
      "text/plain": [
       "'배?고?프?다'"
      ]
     },
     "execution_count": 15,
     "metadata": {},
     "output_type": "execute_result"
    }
   ],
   "source": [
    "'?'.join('배고프다')"
   ]
  },
  {
   "cell_type": "code",
   "execution_count": 16,
   "id": "8081759d-6258-4f71-b3ae-745430a76b14",
   "metadata": {},
   "outputs": [
    {
     "name": "stdout",
     "output_type": "stream",
     "text": [
      "           hello   \n",
      "\n"
     ]
    }
   ],
   "source": [
    "a = '           hello   \\n'\n",
    "print(a)"
   ]
  },
  {
   "cell_type": "code",
   "execution_count": 18,
   "id": "48ce6987-9a30-4bc2-bb2c-50f2c07f352c",
   "metadata": {},
   "outputs": [
    {
     "data": {
      "text/plain": [
       "'hello'"
      ]
     },
     "execution_count": 18,
     "metadata": {},
     "output_type": "execute_result"
    }
   ],
   "source": [
    "a = '       \\t    hello   \\n'\n",
    "a.strip()"
   ]
  },
  {
   "cell_type": "code",
   "execution_count": 21,
   "id": "4b2331ea-85c4-43d8-a3af-c7ffb76c9456",
   "metadata": {},
   "outputs": [
    {
     "name": "stdout",
     "output_type": "stream",
     "text": [
      "!!!!!!!!!!!!!hello?????????????\n"
     ]
    }
   ],
   "source": [
    "a = '!!!!!!!!!!!!!hello?????????????'\n",
    "print(a)"
   ]
  },
  {
   "cell_type": "code",
   "execution_count": 22,
   "id": "ae21c8bf-9d9d-47aa-b4c2-6f8141310a90",
   "metadata": {},
   "outputs": [
    {
     "data": {
      "text/plain": [
       "'hello?????????????'"
      ]
     },
     "execution_count": 22,
     "metadata": {},
     "output_type": "execute_result"
    }
   ],
   "source": [
    "a = '!!!!!!!!!!!!!hello?????????????'\n",
    "a.strip('!')\n",
    "\n",
    "# def strip(char=' ')"
   ]
  },
  {
   "cell_type": "code",
   "execution_count": 105,
   "id": "557c3717-fb95-4cf6-800c-a3e5849ae6bc",
   "metadata": {},
   "outputs": [
    {
     "data": {
      "text/plain": [
       "'hello------------'"
      ]
     },
     "execution_count": 105,
     "metadata": {},
     "output_type": "execute_result"
    }
   ],
   "source": [
    "a = '---------------------hello------------'\n",
    "a.lstrip('-')"
   ]
  },
  {
   "cell_type": "code",
   "execution_count": 26,
   "id": "83e8e20d-d6a1-42cd-afd0-e8eaeb34a264",
   "metadata": {},
   "outputs": [
    {
     "data": {
      "text/plain": [
       "'w!!!ooooooooooooooow'"
      ]
     },
     "execution_count": 26,
     "metadata": {},
     "output_type": "execute_result"
    }
   ],
   "source": [
    "a = 'woooooooooooooooooow'\n",
    "a.replace('o', '!', 3)"
   ]
  },
  {
   "cell_type": "code",
   "execution_count": 27,
   "id": "ca94d774-a8d4-44af-a83e-3cda66a1facd",
   "metadata": {},
   "outputs": [
    {
     "data": {
      "text/plain": [
       "0"
      ]
     },
     "execution_count": 27,
     "metadata": {},
     "output_type": "execute_result"
    }
   ],
   "source": [
    "a = 'apple'\n",
    "a.find('a') # 몇 번째에 있는지"
   ]
  },
  {
   "cell_type": "code",
   "execution_count": 28,
   "id": "89336f0b-8c35-4f63-85c7-a934bc8bcbb8",
   "metadata": {},
   "outputs": [
    {
     "data": {
      "text/plain": [
       "-1"
      ]
     },
     "execution_count": 28,
     "metadata": {},
     "output_type": "execute_result"
    }
   ],
   "source": [
    "a = 'apple'\n",
    "a.find('1')"
   ]
  },
  {
   "cell_type": "code",
   "execution_count": 29,
   "id": "201d992b-4c82-40c8-83ed-e342fb9ceb03",
   "metadata": {},
   "outputs": [
    {
     "data": {
      "text/plain": [
       "3"
      ]
     },
     "execution_count": 29,
     "metadata": {},
     "output_type": "execute_result"
    }
   ],
   "source": [
    "a = 'apple'\n",
    "a.find('l')"
   ]
  },
  {
   "cell_type": "code",
   "execution_count": 30,
   "id": "7e318e58-8827-40db-a0be-1cfe700842cb",
   "metadata": {},
   "outputs": [
    {
     "data": {
      "text/plain": [
       "1"
      ]
     },
     "execution_count": 30,
     "metadata": {},
     "output_type": "execute_result"
    }
   ],
   "source": [
    "a = 'apple'\n",
    "a.find('p')"
   ]
  },
  {
   "cell_type": "code",
   "execution_count": 31,
   "id": "dd8a2967-f93b-40ea-94b7-ea961111b57b",
   "metadata": {},
   "outputs": [
    {
     "data": {
      "text/plain": [
       "0"
      ]
     },
     "execution_count": 31,
     "metadata": {},
     "output_type": "execute_result"
    }
   ],
   "source": [
    "a = 'apple'\n",
    "a.index('a')"
   ]
  },
  {
   "cell_type": "code",
   "execution_count": 32,
   "id": "13b4c74f-3a63-4193-904c-88e03a9c9827",
   "metadata": {},
   "outputs": [
    {
     "data": {
      "text/plain": [
       "1"
      ]
     },
     "execution_count": 32,
     "metadata": {},
     "output_type": "execute_result"
    }
   ],
   "source": [
    "a = 'apple'\n",
    "a.index('p')"
   ]
  },
  {
   "cell_type": "code",
   "execution_count": 33,
   "id": "78723bfd-3603-4d81-88b3-b3b7aa3ffcb6",
   "metadata": {},
   "outputs": [
    {
     "ename": "ValueError",
     "evalue": "substring not found",
     "output_type": "error",
     "traceback": [
      "\u001b[1;31m---------------------------------------------------------------------------\u001b[0m",
      "\u001b[1;31mValueError\u001b[0m                                Traceback (most recent call last)",
      "Cell \u001b[1;32mIn[33], line 2\u001b[0m\n\u001b[0;32m      1\u001b[0m a \u001b[38;5;241m=\u001b[39m \u001b[38;5;124m'\u001b[39m\u001b[38;5;124mapple\u001b[39m\u001b[38;5;124m'\u001b[39m\n\u001b[1;32m----> 2\u001b[0m \u001b[43ma\u001b[49m\u001b[38;5;241;43m.\u001b[39;49m\u001b[43mindex\u001b[49m\u001b[43m(\u001b[49m\u001b[38;5;124;43m'\u001b[39;49m\u001b[38;5;124;43mz\u001b[39;49m\u001b[38;5;124;43m'\u001b[39;49m\u001b[43m)\u001b[49m\n",
      "\u001b[1;31mValueError\u001b[0m: substring not found"
     ]
    }
   ],
   "source": [
    "a = 'apple'\n",
    "a.index('z')"
   ]
  },
  {
   "cell_type": "code",
   "execution_count": 34,
   "id": "e3fc54bf-64fb-4fd0-a731-5266e065aac1",
   "metadata": {},
   "outputs": [
    {
     "data": {
      "text/plain": [
       "3"
      ]
     },
     "execution_count": 34,
     "metadata": {},
     "output_type": "execute_result"
    }
   ],
   "source": [
    "a = 'apple'\n",
    "a.index('l')"
   ]
  },
  {
   "cell_type": "code",
   "execution_count": 35,
   "id": "c1c7a9fc-6923-4187-b1fd-bbf769c6912b",
   "metadata": {},
   "outputs": [
    {
     "data": {
      "text/plain": [
       "['my', 'name', 'is', 'seo']"
      ]
     },
     "execution_count": 35,
     "metadata": {},
     "output_type": "execute_result"
    }
   ],
   "source": [
    "a = 'my name is seo'\n",
    "a.split()"
   ]
  },
  {
   "cell_type": "code",
   "execution_count": 36,
   "id": "0e0449a0-5cf0-436b-9f18-a254d079549b",
   "metadata": {},
   "outputs": [
    {
     "data": {
      "text/plain": [
       "['my', 'name', 'is?seo', '']"
      ]
     },
     "execution_count": 36,
     "metadata": {},
     "output_type": "execute_result"
    }
   ],
   "source": [
    "a = 'my!name!is?seo!'\n",
    "a.split('!')"
   ]
  },
  {
   "cell_type": "code",
   "execution_count": 38,
   "id": "a38e30af-eff5-478f-915f-c39fa610f37e",
   "metadata": {},
   "outputs": [
    {
     "data": {
      "text/plain": [
       "6"
      ]
     },
     "execution_count": 38,
     "metadata": {},
     "output_type": "execute_result"
    }
   ],
   "source": [
    "a = 'woooooow'\n",
    "a.count('o')"
   ]
  },
  {
   "cell_type": "markdown",
   "id": "ec1d9e75-7feb-4054-9f6f-7d189d40c661",
   "metadata": {},
   "source": [
    "# 리스트 메소드"
   ]
  },
  {
   "cell_type": "code",
   "execution_count": 43,
   "id": "1cf79df5-d468-4a99-b500-39d6a983ea10",
   "metadata": {},
   "outputs": [],
   "source": [
    "numbers = [2, 6, 3, 4, 8, 3, 2, 8]"
   ]
  },
  {
   "cell_type": "code",
   "execution_count": 44,
   "id": "8093c05a-32c6-4854-92f4-09f942e55ea1",
   "metadata": {},
   "outputs": [
    {
     "name": "stdout",
     "output_type": "stream",
     "text": [
      "[2, 6, 3, 4, 8, 3, 2, 8, 10]\n"
     ]
    }
   ],
   "source": [
    "numbers.append(10)\n",
    "print(numbers)"
   ]
  },
  {
   "cell_type": "code",
   "execution_count": 45,
   "id": "41237b6d-5d27-4107-b042-de47625f2116",
   "metadata": {},
   "outputs": [],
   "source": [
    "a = [99,100]"
   ]
  },
  {
   "cell_type": "code",
   "execution_count": 46,
   "id": "57b1c21b-b86e-4765-b9bb-8389b3c7dc4c",
   "metadata": {},
   "outputs": [
    {
     "name": "stdout",
     "output_type": "stream",
     "text": [
      "[2, 6, 3, 4, 8, 3, 2, 8, 10, 99, 100]\n"
     ]
    }
   ],
   "source": [
    "numbers.extend(a) # =>numbers + a\n",
    "print(numbers)"
   ]
  },
  {
   "cell_type": "code",
   "execution_count": 49,
   "id": "8fab55e2-5bd9-4479-a267-82261f486761",
   "metadata": {},
   "outputs": [
    {
     "name": "stdout",
     "output_type": "stream",
     "text": [
      "[2, 6, 3, 5, 5, 4, 8, 3, 2, 8, 10, 99, 100]\n"
     ]
    }
   ],
   "source": [
    "numbers.insert(3, 5)\n",
    "print(numbers)"
   ]
  },
  {
   "cell_type": "code",
   "execution_count": 53,
   "id": "2c480a2a-b86e-4964-aef4-5f229b5eb2a3",
   "metadata": {},
   "outputs": [
    {
     "name": "stdout",
     "output_type": "stream",
     "text": [
      "[6, 3, 4, 8, 3, 2, 8, 10, 99, 100]\n"
     ]
    }
   ],
   "source": [
    "# 첫 번째 x를 찾아서 제거, 없으면 오휴\n",
    "numbers.remove(2)\n",
    "print(numbers)"
   ]
  },
  {
   "cell_type": "code",
   "execution_count": 54,
   "id": "ac31846e-74d9-4457-8629-ab811a4bc695",
   "metadata": {},
   "outputs": [
    {
     "name": "stdout",
     "output_type": "stream",
     "text": [
      "[6, 3, 4, 8, 3, 2, 8, 10, 99]\n"
     ]
    }
   ],
   "source": [
    "numbers.pop()\n",
    "print(numbers)"
   ]
  },
  {
   "cell_type": "code",
   "execution_count": 55,
   "id": "fd6dfab1-1a0d-43d3-8604-41d85ccbe907",
   "metadata": {},
   "outputs": [
    {
     "name": "stdout",
     "output_type": "stream",
     "text": [
      "[3, 4, 8, 3, 2, 8, 10, 99]\n"
     ]
    }
   ],
   "source": [
    "numbers.pop(0)\n",
    "print(numbers)"
   ]
  },
  {
   "cell_type": "code",
   "execution_count": 56,
   "id": "5fc9846d-8e5a-46ed-a221-4edc025846ef",
   "metadata": {},
   "outputs": [
    {
     "name": "stdout",
     "output_type": "stream",
     "text": [
      "[2, 3, 3, 4, 8, 8, 10, 99]\n"
     ]
    }
   ],
   "source": [
    "numbers.sort()\n",
    "print(numbers)"
   ]
  },
  {
   "cell_type": "code",
   "execution_count": 60,
   "id": "edb34c71-48ec-4176-9eb7-4ea9eb6e0cb9",
   "metadata": {},
   "outputs": [
    {
     "name": "stdout",
     "output_type": "stream",
     "text": [
      "[99, 10, 8, 8, 4, 3, 3, 2]\n"
     ]
    }
   ],
   "source": [
    "numbers.sort(reverse=True)\n",
    "print(numbers)"
   ]
  },
  {
   "cell_type": "code",
   "execution_count": 61,
   "id": "7f84dd1d-4385-4f5b-b094-c07f8db57365",
   "metadata": {},
   "outputs": [],
   "source": [
    "a = [2, 3, 5, 3, 1]"
   ]
  },
  {
   "cell_type": "code",
   "execution_count": 62,
   "id": "0913f0bc-6c0e-4847-ac7f-9a1b2757f020",
   "metadata": {},
   "outputs": [
    {
     "name": "stdout",
     "output_type": "stream",
     "text": [
      "[1, 2, 3, 3, 5]\n"
     ]
    }
   ],
   "source": [
    "print(sorted(a))"
   ]
  },
  {
   "cell_type": "code",
   "execution_count": 63,
   "id": "bf5f2601-9a5d-47c9-85b6-436af72ff925",
   "metadata": {},
   "outputs": [
    {
     "name": "stdout",
     "output_type": "stream",
     "text": [
      "[2, 3, 5, 3, 1]\n"
     ]
    }
   ],
   "source": [
    "print(a)"
   ]
  },
  {
   "cell_type": "code",
   "execution_count": 64,
   "id": "79bc9ce3-723b-4c92-97cb-d277cfd9857d",
   "metadata": {},
   "outputs": [
    {
     "name": "stdout",
     "output_type": "stream",
     "text": [
      "['a', 'r', '나', '하']\n"
     ]
    }
   ],
   "source": [
    "my_list = ['a', '나', 'r', '하']\n",
    "my_list.sort()\n",
    "print(my_list)"
   ]
  },
  {
   "cell_type": "code",
   "execution_count": 65,
   "id": "1b27d631-c104-4719-a802-b090a412bed6",
   "metadata": {},
   "outputs": [
    {
     "name": "stdout",
     "output_type": "stream",
     "text": [
      "[99, 10, 8, 8, 4, 3, 3, 2]\n",
      "[2, 3, 3, 4, 8, 8, 10, 99]\n"
     ]
    }
   ],
   "source": [
    "print(numbers)\n",
    "numbers.reverse()\n",
    "print(numbers)"
   ]
  },
  {
   "cell_type": "code",
   "execution_count": 67,
   "id": "60aef28b-0804-4ccb-bc52-e4279d2f25e2",
   "metadata": {},
   "outputs": [
    {
     "data": {
      "text/plain": [
       "1"
      ]
     },
     "execution_count": 67,
     "metadata": {},
     "output_type": "execute_result"
    }
   ],
   "source": [
    "numbers.count(10)"
   ]
  },
  {
   "cell_type": "markdown",
   "id": "b91e3ff2-f89c-4f99-a04c-33f70afd2b82",
   "metadata": {},
   "source": [
    "### list copy"
   ]
  },
  {
   "cell_type": "code",
   "execution_count": 68,
   "id": "ad1ba1ec-e157-4721-a628-97a2753186f4",
   "metadata": {},
   "outputs": [],
   "source": [
    "origin_list = [1, 2, 3]\n",
    "copy_list = origin_list"
   ]
  },
  {
   "cell_type": "code",
   "execution_count": 69,
   "id": "1c1fd457-8247-45d1-86ad-28d0e8a339c9",
   "metadata": {},
   "outputs": [
    {
     "name": "stdout",
     "output_type": "stream",
     "text": [
      "[1, 2, 3]\n",
      "[1, 2, 3]\n"
     ]
    }
   ],
   "source": [
    "print(origin_list)\n",
    "print(copy_list)"
   ]
  },
  {
   "cell_type": "code",
   "execution_count": 70,
   "id": "b673ec66-d681-4fb8-bd7a-ee6d802eb624",
   "metadata": {},
   "outputs": [
    {
     "name": "stdout",
     "output_type": "stream",
     "text": [
      "[100, 2, 3]\n",
      "[100, 2, 3]\n"
     ]
    }
   ],
   "source": [
    "copy_list[0] = 100\n",
    "print(origin_list)\n",
    "print(copy_list)"
   ]
  },
  {
   "cell_type": "code",
   "execution_count": 71,
   "id": "a9a1c12e-8b66-4a6b-a0b2-de4e88d5c4af",
   "metadata": {},
   "outputs": [
    {
     "name": "stdout",
     "output_type": "stream",
     "text": [
      "[1, 2, 3]\n",
      "[100, 2, 3]\n"
     ]
    }
   ],
   "source": [
    "origin_list = [1, 2, 3]\n",
    "copy_list = origin_list[:]\n",
    "\n",
    "copy_list[0] = 100\n",
    "\n",
    "print(origin_list)\n",
    "print(copy_list)"
   ]
  },
  {
   "cell_type": "code",
   "execution_count": 72,
   "id": "e766276e-0e10-42d0-bad3-0ffcb7b02b2d",
   "metadata": {},
   "outputs": [
    {
     "name": "stdout",
     "output_type": "stream",
     "text": [
      "[1, 2, [-10, 11]]\n",
      "[100, 2, [-10, 11]]\n"
     ]
    }
   ],
   "source": [
    "origin_list = [1, 2, [10, 11]]\n",
    "copy_list = origin_list[:]\n",
    "\n",
    "copy_list[0] = 100\n",
    "copy_list[2][0] = -10\n",
    "\n",
    "print(origin_list)\n",
    "print(copy_list)"
   ]
  },
  {
   "cell_type": "code",
   "execution_count": 75,
   "id": "e206c963-ae7f-46b7-8681-e14237e3436d",
   "metadata": {},
   "outputs": [
    {
     "name": "stdout",
     "output_type": "stream",
     "text": [
      "[1, 2, [10, 11]]\n",
      "[100, 2, [10, -11]]\n"
     ]
    }
   ],
   "source": [
    "import copy\n",
    "\n",
    "origin_list = [1, 2, [10, 11]]\n",
    "copy_list = copy.deepcopy(origin_list)\n",
    "\n",
    "copy_list[0] = 100\n",
    "copy_list[2][1] = -11\n",
    "\n",
    "print(origin_list)\n",
    "print(copy_list)"
   ]
  },
  {
   "cell_type": "markdown",
   "id": "3efce93a-0fe8-43ab-93af-efa2138de9bb",
   "metadata": {},
   "source": [
    "### list comprehension"
   ]
  },
  {
   "cell_type": "code",
   "execution_count": 76,
   "id": "8f62d901-01cd-4ae9-b05f-8f3a5d6516a1",
   "metadata": {},
   "outputs": [
    {
     "name": "stdout",
     "output_type": "stream",
     "text": [
      "[1, 2, 3, 4, 5, 6, 7, 8, 9, 10]\n"
     ]
    }
   ],
   "source": [
    "numbers = list(range(1, 11))\n",
    "print(numbers)"
   ]
  },
  {
   "cell_type": "code",
   "execution_count": 77,
   "id": "25b4106f-570c-4844-923e-1fa0eead6fdb",
   "metadata": {},
   "outputs": [
    {
     "name": "stdout",
     "output_type": "stream",
     "text": [
      "[1, 8, 27, 64, 125, 216, 343, 512, 729, 1000]\n"
     ]
    }
   ],
   "source": [
    "result = []\n",
    "\n",
    "for number in numbers:\n",
    "    temp = number ** 3\n",
    "    result.append(temp)\n",
    "\n",
    "print(result)\n",
    "\n"
   ]
  },
  {
   "cell_type": "code",
   "execution_count": 79,
   "id": "e6b6373f-741a-423c-ba20-8d4659a56a10",
   "metadata": {},
   "outputs": [
    {
     "name": "stdout",
     "output_type": "stream",
     "text": [
      "[1, 8, 27, 64, 125, 216, 343, 512, 729, 1000]\n"
     ]
    }
   ],
   "source": [
    "result = [number ** 3 for number in numbers]\n",
    "# result = [number] ** 3 \n",
    "print(result)"
   ]
  },
  {
   "cell_type": "code",
   "execution_count": 84,
   "id": "1903bc88-58a9-4d06-9dc2-d441e3b14919",
   "metadata": {},
   "outputs": [
    {
     "name": "stdout",
     "output_type": "stream",
     "text": [
      "[2, 4, 6, 8, 10, 12, 14, 16, 18, 20, 22, 24, 26, 28, 30]\n"
     ]
    }
   ],
   "source": [
    "# 짝수만 고르기\n",
    "numbers = list(range(1, 31))\n",
    "result = [number for number in numbers if number % 2 == 0]\n",
    "print(result)"
   ]
  },
  {
   "cell_type": "code",
   "execution_count": 85,
   "id": "e74ca2fc-7e16-465c-934a-2052712cfcc1",
   "metadata": {},
   "outputs": [
    {
     "name": "stdout",
     "output_type": "stream",
     "text": [
      "[4, 8, 12, 16, 20, 24, 28, 32, 36, 40, 44, 48, 52, 56, 60]\n"
     ]
    }
   ],
   "source": [
    "numbers = list(range(1, 31))\n",
    "result = [number * 2 for number in numbers if number % 2 == 0]\n",
    "print(result)"
   ]
  },
  {
   "cell_type": "code",
   "execution_count": 119,
   "id": "0b492c5e-c814-4e26-a7c1-2f2edfb47d5f",
   "metadata": {},
   "outputs": [],
   "source": [
    "# 연습! 모음제거\n",
    "words = 'my name is hong'\n",
    "\n",
    "# => my nm s hng"
   ]
  },
  {
   "cell_type": "code",
   "execution_count": 120,
   "id": "fcd8f8a2-698e-4d67-8fa3-5be72d756978",
   "metadata": {},
   "outputs": [],
   "source": [
    "# 1. for / if"
   ]
  },
  {
   "cell_type": "code",
   "execution_count": 121,
   "id": "92241871-3ebf-4b70-a8af-03f075618a1b",
   "metadata": {},
   "outputs": [
    {
     "name": "stdout",
     "output_type": "stream",
     "text": [
      "m\n",
      "y\n",
      " \n",
      "n\n",
      "a\n",
      "m\n",
      "e\n",
      " \n",
      "i\n",
      "s\n",
      " \n",
      "h\n",
      "o\n",
      "n\n",
      "g\n"
     ]
    }
   ],
   "source": [
    "for char in words:\n",
    "    print(char)"
   ]
  },
  {
   "cell_type": "code",
   "execution_count": 126,
   "id": "7724158a-c012-44b4-a335-23454a509f30",
   "metadata": {},
   "outputs": [
    {
     "name": "stdout",
     "output_type": "stream",
     "text": [
      "['m', 'y', ' ', 'n', 'm', ' ', 's', ' ', 'h', 'n', 'g']\n",
      "my nm s hng\n"
     ]
    }
   ],
   "source": [
    "vowels = ['a', 'e', 'i', 'o', 'u']\n",
    "result = []\n",
    "for char in words: \n",
    "    #모음인 경우\n",
    "    if char in vowels:\n",
    "        pass\n",
    "    # 자음인 경우\n",
    "    else:\n",
    "        result.append(char)\n",
    "\n",
    "print(result)\n",
    "print(''.join(result))"
   ]
  },
  {
   "cell_type": "code",
   "execution_count": 128,
   "id": "e4b5a51e-c5c7-45af-ab83-ce63158d3b0b",
   "metadata": {},
   "outputs": [
    {
     "name": "stdout",
     "output_type": "stream",
     "text": [
      "['m', 'y', ' ', 'n', 'm', ' ', 's', ' ', 'h', 'n', 'g']\n",
      "my nm s hng\n"
     ]
    }
   ],
   "source": [
    "vowels = ['a', 'e', 'i', 'o', 'u']\n",
    "result = [] # 골라내기 위해 공간을 만들기 (공간정의) =>초기화 <cf. result = 0>\n",
    "for char in words: \n",
    "    #모음인 경우 => 모음이 아닌 경우(자음인경우)\n",
    "    if char not in vowels:\n",
    "        result.append(char)\n",
    "        \n",
    "    # 자음인 경우\n",
    "    # else:\n",
    "    #  result.append(char)\n",
    "\n",
    "print(result)\n",
    "print(''.join(result))"
   ]
  },
  {
   "cell_type": "code",
   "execution_count": null,
   "id": "deb4a6ad-ccdf-4ccd-9e41-b3edb1dc1541",
   "metadata": {},
   "outputs": [],
   "source": [
    "vowels = ['a', 'e', 'i', 'o', 'u']\n",
    "vowels = 'aeiou'\n",
    "result = [] # 골라내기 위해 공간을 만들기 (공간정의) =>초기화 <cf. result = 0>\n",
    "for char in words: \n",
    "    #모음인 경우 => 모음이 아닌 경우(자음인경우)\n",
    "    if char not in vowels:\n",
    "        result.append(char)\n",
    "        \n",
    "    # 자음인 경우\n",
    "    # else:\n",
    "    #  result.append(char)\n",
    "\n",
    "print(result)\n",
    "print(''.join(result))"
   ]
  },
  {
   "cell_type": "code",
   "execution_count": 99,
   "id": "bb4969d9-a775-4716-958e-00f59ed12443",
   "metadata": {},
   "outputs": [],
   "source": [
    "# 2. list comprehension"
   ]
  },
  {
   "cell_type": "code",
   "execution_count": 130,
   "id": "eaf229d7-f016-4daf-9d65-b520315d0cfd",
   "metadata": {},
   "outputs": [
    {
     "name": "stdout",
     "output_type": "stream",
     "text": [
      "['m', 'y', ' ', 'n', 'm', ' ', 's', ' ', 'h', 'n', 'g']\n",
      "my nm s hng\n"
     ]
    }
   ],
   "source": [
    "vowels = 'aeiou'\n",
    "result = [char for char in words if char not in vowels]\n",
    "print(result)\n",
    "print(''.join(result))"
   ]
  },
  {
   "cell_type": "code",
   "execution_count": 131,
   "id": "cd52dbfe-23d0-4e2a-b0e7-459f7e9fcf5f",
   "metadata": {},
   "outputs": [
    {
     "data": {
      "text/plain": [
       "'my nm s hng'"
      ]
     },
     "execution_count": 131,
     "metadata": {},
     "output_type": "execute_result"
    }
   ],
   "source": [
    "''.join(char for char in words if char not in 'aeiou')"
   ]
  },
  {
   "cell_type": "code",
   "execution_count": 132,
   "id": "736f9b2b-5995-4832-8bfb-edd03beab121",
   "metadata": {},
   "outputs": [
    {
     "name": "stdout",
     "output_type": "stream",
     "text": [
      "a\n",
      "e\n",
      "i\n",
      "o\n",
      "u\n"
     ]
    }
   ],
   "source": [
    "#3. replace 메소드\n",
    "vowels= 'aeiou'\n",
    "\n",
    "for char in vowels:\n",
    "    print(char)"
   ]
  },
  {
   "cell_type": "code",
   "execution_count": 134,
   "id": "07c6e38d-34ac-4921-8051-d13d70446676",
   "metadata": {},
   "outputs": [
    {
     "name": "stdout",
     "output_type": "stream",
     "text": [
      "my nm s hng\n",
      "my nm s hng\n",
      "my nm s hng\n",
      "my nm s hng\n",
      "my nm s hng\n"
     ]
    }
   ],
   "source": [
    "vowels= 'aeiou'\n",
    "\n",
    "for char in vowels:\n",
    "    words = words.replace(char, '')\n",
    "\n",
    "    print(words)"
   ]
  },
  {
   "cell_type": "code",
   "execution_count": null,
   "id": "90be157f-9222-4893-9699-7b30e3ce9faf",
   "metadata": {},
   "outputs": [],
   "source": []
  }
 ],
 "metadata": {
  "kernelspec": {
   "display_name": "Python 3 (ipykernel)",
   "language": "python",
   "name": "python3"
  },
  "language_info": {
   "codemirror_mode": {
    "name": "ipython",
    "version": 3
   },
   "file_extension": ".py",
   "mimetype": "text/x-python",
   "name": "python",
   "nbconvert_exporter": "python",
   "pygments_lexer": "ipython3",
   "version": "3.13.2"
  }
 },
 "nbformat": 4,
 "nbformat_minor": 5
}
