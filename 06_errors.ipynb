{
 "cells": [
  {
   "cell_type": "markdown",
   "id": "e324b645-6b9e-4a14-818c-99a9b5850715",
   "metadata": {},
   "source": [
    "# Error"
   ]
  },
  {
   "cell_type": "markdown",
   "id": "eb195549-30a8-4ca2-b22e-14c69fa0e527",
   "metadata": {},
   "source": [
    "### syntex error"
   ]
  },
  {
   "cell_type": "code",
   "execution_count": 1,
   "id": "533a9775-e859-4f22-bdb2-f26957194268",
   "metadata": {},
   "outputs": [
    {
     "ename": "SyntaxError",
     "evalue": "unterminated string literal (detected at line 1) (3574047905.py, line 1)",
     "output_type": "error",
     "traceback": [
      "\u001b[1;36m  Cell \u001b[1;32mIn[1], line 1\u001b[1;36m\u001b[0m\n\u001b[1;33m    print('hello)\u001b[0m\n\u001b[1;37m          ^\u001b[0m\n\u001b[1;31mSyntaxError\u001b[0m\u001b[1;31m:\u001b[0m unterminated string literal (detected at line 1)\n"
     ]
    }
   ],
   "source": [
    "print('hello)"
   ]
  },
  {
   "cell_type": "code",
   "execution_count": 2,
   "id": "c9510c4d-04c5-4411-8e7a-250e43a6925a",
   "metadata": {},
   "outputs": [
    {
     "ename": "SyntaxError",
     "evalue": "expected ':' (2202177880.py, line 4)",
     "output_type": "error",
     "traceback": [
      "\u001b[1;36m  Cell \u001b[1;32mIn[2], line 4\u001b[1;36m\u001b[0m\n\u001b[1;33m    else\u001b[0m\n\u001b[1;37m        ^\u001b[0m\n\u001b[1;31mSyntaxError\u001b[0m\u001b[1;31m:\u001b[0m expected ':'\n"
     ]
    }
   ],
   "source": [
    "if True:\n",
    "    pass\n",
    "\n",
    "else"
   ]
  },
  {
   "cell_type": "code",
   "execution_count": 4,
   "id": "05350f76-1a44-43b4-86a5-9c07a837a269",
   "metadata": {},
   "outputs": [
    {
     "ename": "_IncompleteInputError",
     "evalue": "incomplete input (3871997710.py, line 1)",
     "output_type": "error",
     "traceback": [
      "\u001b[1;36m  Cell \u001b[1;32mIn[4], line 1\u001b[1;36m\u001b[0m\n\u001b[1;33m    print('hello'\u001b[0m\n\u001b[1;37m                 ^\u001b[0m\n\u001b[1;31m_IncompleteInputError\u001b[0m\u001b[1;31m:\u001b[0m incomplete input\n"
     ]
    }
   ],
   "source": [
    "print('hello'"
   ]
  },
  {
   "cell_type": "markdown",
   "id": "88c59c58-f820-4428-be01-cef53c600c49",
   "metadata": {},
   "source": [
    "## exception"
   ]
  },
  {
   "cell_type": "code",
   "execution_count": 5,
   "id": "ff8d62c1-ea53-4d71-9a39-357734c6d8f9",
   "metadata": {},
   "outputs": [
    {
     "ename": "ZeroDivisionError",
     "evalue": "division by zero",
     "output_type": "error",
     "traceback": [
      "\u001b[1;31m---------------------------------------------------------------------------\u001b[0m",
      "\u001b[1;31mZeroDivisionError\u001b[0m                         Traceback (most recent call last)",
      "Cell \u001b[1;32mIn[5], line 1\u001b[0m\n\u001b[1;32m----> 1\u001b[0m \u001b[38;5;28mprint\u001b[39m(\u001b[38;5;241;43m5\u001b[39;49m\u001b[38;5;241;43m/\u001b[39;49m\u001b[38;5;241;43m0\u001b[39;49m)\n",
      "\u001b[1;31mZeroDivisionError\u001b[0m: division by zero"
     ]
    }
   ],
   "source": [
    "print(5/0)"
   ]
  },
  {
   "cell_type": "code",
   "execution_count": 7,
   "id": "dd03c312-6f15-49fd-bcaa-9831055708da",
   "metadata": {},
   "outputs": [
    {
     "ename": "NameError",
     "evalue": "name 'hello' is not defined",
     "output_type": "error",
     "traceback": [
      "\u001b[1;31m---------------------------------------------------------------------------\u001b[0m",
      "\u001b[1;31mNameError\u001b[0m                                 Traceback (most recent call last)",
      "Cell \u001b[1;32mIn[7], line 1\u001b[0m\n\u001b[1;32m----> 1\u001b[0m \u001b[38;5;28mprint\u001b[39m(\u001b[43mhello\u001b[49m)\n\u001b[0;32m      2\u001b[0m \u001b[38;5;66;03m# 변수 타케팅을 하려고 시도, 변수 선언\u001b[39;00m\n\u001b[0;32m      3\u001b[0m \u001b[38;5;66;03m# 문자를 출력하려 했다면 '' 사용\u001b[39;00m\n",
      "\u001b[1;31mNameError\u001b[0m: name 'hello' is not defined"
     ]
    }
   ],
   "source": [
    "print(hello)\n",
    "# 변수 타케팅을 하려고 시도, 변수 선언\n",
    "# 문자를 출력하려 했다면 '' 사용"
   ]
  },
  {
   "cell_type": "code",
   "execution_count": 10,
   "id": "26f81dc9-a4bd-4fd4-81ec-422d5f6de61f",
   "metadata": {},
   "outputs": [
    {
     "ename": "TypeError",
     "evalue": "unsupported operand type(s) for +: 'int' and 'str'",
     "output_type": "error",
     "traceback": [
      "\u001b[1;31m---------------------------------------------------------------------------\u001b[0m",
      "\u001b[1;31mTypeError\u001b[0m                                 Traceback (most recent call last)",
      "Cell \u001b[1;32mIn[10], line 1\u001b[0m\n\u001b[1;32m----> 1\u001b[0m \u001b[38;5;241;43m1\u001b[39;49m\u001b[43m \u001b[49m\u001b[38;5;241;43m+\u001b[39;49m\u001b[43m \u001b[49m\u001b[38;5;124;43m'\u001b[39;49m\u001b[38;5;124;43m1\u001b[39;49m\u001b[38;5;124;43m'\u001b[39;49m\n\u001b[0;32m      2\u001b[0m \u001b[38;5;66;03m# 숫자 더하려 시도\u001b[39;00m\n",
      "\u001b[1;31mTypeError\u001b[0m: unsupported operand type(s) for +: 'int' and 'str'"
     ]
    }
   ],
   "source": [
    "1 + '1'\n",
    "# 숫자 더하려 시도"
   ]
  },
  {
   "cell_type": "code",
   "execution_count": 11,
   "id": "37d51934-df5e-4d1f-b7d2-5950b4131d6a",
   "metadata": {},
   "outputs": [
    {
     "ename": "TypeError",
     "evalue": "can only concatenate str (not \"int\") to str",
     "output_type": "error",
     "traceback": [
      "\u001b[1;31m---------------------------------------------------------------------------\u001b[0m",
      "\u001b[1;31mTypeError\u001b[0m                                 Traceback (most recent call last)",
      "Cell \u001b[1;32mIn[11], line 1\u001b[0m\n\u001b[1;32m----> 1\u001b[0m \u001b[38;5;124;43m'\u001b[39;49m\u001b[38;5;124;43m1\u001b[39;49m\u001b[38;5;124;43m'\u001b[39;49m\u001b[43m \u001b[49m\u001b[38;5;241;43m+\u001b[39;49m\u001b[43m \u001b[49m\u001b[38;5;241;43m1\u001b[39;49m\n\u001b[0;32m      2\u001b[0m \u001b[38;5;66;03m# 글자 뒤 글자 연결하려 시도\u001b[39;00m\n",
      "\u001b[1;31mTypeError\u001b[0m: can only concatenate str (not \"int\") to str"
     ]
    }
   ],
   "source": [
    "'1' + 1\n",
    "# 글자 뒤 글자 연결하려 시도"
   ]
  },
  {
   "cell_type": "code",
   "execution_count": 14,
   "id": "4193a2aa-5ad5-43e4-a83a-b39c0b7e58c5",
   "metadata": {},
   "outputs": [
    {
     "ename": "TypeError",
     "evalue": "Random.sample() missing 1 required positional argument: 'k'",
     "output_type": "error",
     "traceback": [
      "\u001b[1;31m---------------------------------------------------------------------------\u001b[0m",
      "\u001b[1;31mTypeError\u001b[0m                                 Traceback (most recent call last)",
      "Cell \u001b[1;32mIn[14], line 2\u001b[0m\n\u001b[0;32m      1\u001b[0m \u001b[38;5;28;01mimport\u001b[39;00m\u001b[38;5;250m \u001b[39m\u001b[38;5;21;01mrandom\u001b[39;00m\n\u001b[1;32m----> 2\u001b[0m \u001b[43mrandom\u001b[49m\u001b[38;5;241;43m.\u001b[39;49m\u001b[43msample\u001b[49m\u001b[43m(\u001b[49m\u001b[43m[\u001b[49m\u001b[38;5;241;43m1\u001b[39;49m\u001b[43m,\u001b[49m\u001b[43m \u001b[49m\u001b[38;5;241;43m2\u001b[39;49m\u001b[43m,\u001b[49m\u001b[43m \u001b[49m\u001b[38;5;241;43m3\u001b[39;49m\u001b[43m,\u001b[49m\u001b[43m \u001b[49m\u001b[38;5;241;43m4\u001b[39;49m\u001b[43m,\u001b[49m\u001b[43m \u001b[49m\u001b[38;5;241;43m5\u001b[39;49m\u001b[43m]\u001b[49m\u001b[43m,\u001b[49m\u001b[43m)\u001b[49m\n",
      "\u001b[1;31mTypeError\u001b[0m: Random.sample() missing 1 required positional argument: 'k'"
     ]
    }
   ],
   "source": [
    "import random\n",
    "random.sample([1, 2, 3, 4, 5],)"
   ]
  },
  {
   "cell_type": "code",
   "execution_count": 15,
   "id": "7ae14fc4-2836-4d02-88cc-f3e751bc2dd9",
   "metadata": {},
   "outputs": [
    {
     "ename": "TypeError",
     "evalue": "Random.sample() takes 3 positional arguments but 11 were given",
     "output_type": "error",
     "traceback": [
      "\u001b[1;31m---------------------------------------------------------------------------\u001b[0m",
      "\u001b[1;31mTypeError\u001b[0m                                 Traceback (most recent call last)",
      "Cell \u001b[1;32mIn[15], line 1\u001b[0m\n\u001b[1;32m----> 1\u001b[0m \u001b[43mrandom\u001b[49m\u001b[38;5;241;43m.\u001b[39;49m\u001b[43msample\u001b[49m\u001b[43m(\u001b[49m\u001b[43m[\u001b[49m\u001b[38;5;241;43m1\u001b[39;49m\u001b[43m,\u001b[49m\u001b[43m \u001b[49m\u001b[38;5;241;43m2\u001b[39;49m\u001b[43m,\u001b[49m\u001b[43m \u001b[49m\u001b[38;5;241;43m3\u001b[39;49m\u001b[43m,\u001b[49m\u001b[43m]\u001b[49m\u001b[43m,\u001b[49m\u001b[43m \u001b[49m\u001b[38;5;241;43m1\u001b[39;49m\u001b[43m,\u001b[49m\u001b[43m \u001b[49m\u001b[38;5;241;43m2\u001b[39;49m\u001b[43m,\u001b[49m\u001b[43m \u001b[49m\u001b[38;5;241;43m3\u001b[39;49m\u001b[43m,\u001b[49m\u001b[43m \u001b[49m\u001b[38;5;241;43m4\u001b[39;49m\u001b[43m,\u001b[49m\u001b[43m \u001b[49m\u001b[38;5;241;43m5\u001b[39;49m\u001b[43m,\u001b[49m\u001b[43m \u001b[49m\u001b[38;5;241;43m6\u001b[39;49m\u001b[43m,\u001b[49m\u001b[43m \u001b[49m\u001b[38;5;241;43m7\u001b[39;49m\u001b[43m,\u001b[49m\u001b[43m \u001b[49m\u001b[38;5;241;43m8\u001b[39;49m\u001b[43m,\u001b[49m\u001b[43m \u001b[49m\u001b[38;5;241;43m9\u001b[39;49m\u001b[43m)\u001b[49m\n",
      "\u001b[1;31mTypeError\u001b[0m: Random.sample() takes 3 positional arguments but 11 were given"
     ]
    }
   ],
   "source": [
    "random.sample([1, 2, 3,], 1, 2, 3, 4, 5, 6, 7, 8, 9)"
   ]
  },
  {
   "cell_type": "code",
   "execution_count": 16,
   "id": "7aa91f8f-4bde-445d-a214-b04985cffe00",
   "metadata": {},
   "outputs": [
    {
     "ename": "ValueError",
     "evalue": "invalid literal for int() with base 10: '4.5'",
     "output_type": "error",
     "traceback": [
      "\u001b[1;31m---------------------------------------------------------------------------\u001b[0m",
      "\u001b[1;31mValueError\u001b[0m                                Traceback (most recent call last)",
      "Cell \u001b[1;32mIn[16], line 1\u001b[0m\n\u001b[1;32m----> 1\u001b[0m \u001b[38;5;28;43mint\u001b[39;49m\u001b[43m(\u001b[49m\u001b[38;5;124;43m'\u001b[39;49m\u001b[38;5;124;43m4.5\u001b[39;49m\u001b[38;5;124;43m'\u001b[39;49m\u001b[43m)\u001b[49m\n",
      "\u001b[1;31mValueError\u001b[0m: invalid literal for int() with base 10: '4.5'"
     ]
    }
   ],
   "source": [
    "int('4.5')"
   ]
  },
  {
   "cell_type": "code",
   "execution_count": 21,
   "id": "a2d1c727-4810-41ab-acaa-a8e9c57e9d77",
   "metadata": {},
   "outputs": [
    {
     "ename": "ValueError",
     "evalue": "100 is not in list",
     "output_type": "error",
     "traceback": [
      "\u001b[1;31m---------------------------------------------------------------------------\u001b[0m",
      "\u001b[1;31mValueError\u001b[0m                                Traceback (most recent call last)",
      "Cell \u001b[1;32mIn[21], line 2\u001b[0m\n\u001b[0;32m      1\u001b[0m numbers \u001b[38;5;241m=\u001b[39m [\u001b[38;5;241m1\u001b[39m, \u001b[38;5;241m2\u001b[39m, \u001b[38;5;241m3\u001b[39m]\n\u001b[1;32m----> 2\u001b[0m \u001b[43mnumbers\u001b[49m\u001b[38;5;241;43m.\u001b[39;49m\u001b[43mindex\u001b[49m\u001b[43m(\u001b[49m\u001b[38;5;241;43m100\u001b[39;49m\u001b[43m)\u001b[49m\n",
      "\u001b[1;31mValueError\u001b[0m: 100 is not in list"
     ]
    }
   ],
   "source": [
    "numbers = [1, 2, 3]\n",
    "numbers.index(100)"
   ]
  },
  {
   "cell_type": "code",
   "execution_count": 22,
   "id": "24a5c099-b5d3-4fbb-973f-747e8cbb3570",
   "metadata": {},
   "outputs": [
    {
     "ename": "IndexError",
     "evalue": "list index out of range",
     "output_type": "error",
     "traceback": [
      "\u001b[1;31m---------------------------------------------------------------------------\u001b[0m",
      "\u001b[1;31mIndexError\u001b[0m                                Traceback (most recent call last)",
      "Cell \u001b[1;32mIn[22], line 1\u001b[0m\n\u001b[1;32m----> 1\u001b[0m \u001b[43mnumbers\u001b[49m\u001b[43m[\u001b[49m\u001b[38;5;241;43m100\u001b[39;49m\u001b[43m]\u001b[49m\n",
      "\u001b[1;31mIndexError\u001b[0m: list index out of range"
     ]
    }
   ],
   "source": [
    "numbers[100]"
   ]
  },
  {
   "cell_type": "code",
   "execution_count": 26,
   "id": "16aaa340-c440-4b89-9068-8343b927a0a9",
   "metadata": {},
   "outputs": [
    {
     "data": {
      "text/plain": [
       "3"
      ]
     },
     "execution_count": 26,
     "metadata": {},
     "output_type": "execute_result"
    }
   ],
   "source": [
    "numbers[2]"
   ]
  },
  {
   "cell_type": "code",
   "execution_count": 27,
   "id": "617e9a67-6cb0-4258-888a-c70c7f8ab14d",
   "metadata": {},
   "outputs": [],
   "source": [
    "my_dict = {\n",
    "    'apple' : '사과',\n",
    "    'banana' : '바나나'\n",
    "}"
   ]
  },
  {
   "cell_type": "code",
   "execution_count": 31,
   "id": "92becb67-c2ec-47e2-83b9-297d2a41b41e",
   "metadata": {},
   "outputs": [
    {
     "ename": "KeyError",
     "evalue": "'melon'",
     "output_type": "error",
     "traceback": [
      "\u001b[1;31m---------------------------------------------------------------------------\u001b[0m",
      "\u001b[1;31mKeyError\u001b[0m                                  Traceback (most recent call last)",
      "Cell \u001b[1;32mIn[31], line 1\u001b[0m\n\u001b[1;32m----> 1\u001b[0m \u001b[43mmy_dict\u001b[49m\u001b[43m[\u001b[49m\u001b[38;5;124;43m'\u001b[39;49m\u001b[38;5;124;43mmelon\u001b[39;49m\u001b[38;5;124;43m'\u001b[39;49m\u001b[43m]\u001b[49m\n",
      "\u001b[1;31mKeyError\u001b[0m: 'melon'"
     ]
    }
   ],
   "source": [
    "my_dict['melon']"
   ]
  },
  {
   "cell_type": "code",
   "execution_count": 33,
   "id": "49ad8062-2133-4494-ad67-9c52cd1c8de2",
   "metadata": {},
   "outputs": [
    {
     "ename": "ModuleNotFoundError",
     "evalue": "No module named 'request'",
     "output_type": "error",
     "traceback": [
      "\u001b[1;31m---------------------------------------------------------------------------\u001b[0m",
      "\u001b[1;31mModuleNotFoundError\u001b[0m                       Traceback (most recent call last)",
      "Cell \u001b[1;32mIn[33], line 1\u001b[0m\n\u001b[1;32m----> 1\u001b[0m \u001b[38;5;28;01mimport\u001b[39;00m\u001b[38;5;250m \u001b[39m\u001b[38;5;21;01mrequest\u001b[39;00m\n",
      "\u001b[1;31mModuleNotFoundError\u001b[0m: No module named 'request'"
     ]
    }
   ],
   "source": [
    "import request"
   ]
  },
  {
   "cell_type": "markdown",
   "id": "45f5b3da-a6b6-4088-8b73-318d4b7b0afc",
   "metadata": {},
   "source": [
    "### 예외처리"
   ]
  },
  {
   "cell_type": "markdown",
   "id": "fc3529e4-1eec-48be-9680-32d1c7e36748",
   "metadata": {},
   "source": [
    "'''python\n",
    "try:\n",
    "    code\n",
    "except exception:\n",
    "    code\n",
    "'''"
   ]
  },
  {
   "cell_type": "code",
   "execution_count": 37,
   "id": "feb24b57-8b42-4058-8a77-dd9de068a843",
   "metadata": {},
   "outputs": [
    {
     "name": "stdin",
     "output_type": "stream",
     "text": [
      "숫자를 입력해주세요 백릇당\n"
     ]
    },
    {
     "ename": "ValueError",
     "evalue": "invalid literal for int() with base 10: '백릇당'",
     "output_type": "error",
     "traceback": [
      "\u001b[1;31m---------------------------------------------------------------------------\u001b[0m",
      "\u001b[1;31mValueError\u001b[0m                                Traceback (most recent call last)",
      "Cell \u001b[1;32mIn[37], line 1\u001b[0m\n\u001b[1;32m----> 1\u001b[0m number \u001b[38;5;241m=\u001b[39m \u001b[38;5;28;43mint\u001b[39;49m\u001b[43m(\u001b[49m\u001b[38;5;28;43minput\u001b[39;49m\u001b[43m(\u001b[49m\u001b[38;5;124;43m'\u001b[39;49m\u001b[38;5;124;43m숫자를 입력해주세요\u001b[39;49m\u001b[38;5;124;43m'\u001b[39;49m\u001b[43m)\u001b[49m\u001b[43m)\u001b[49m\n\u001b[0;32m      2\u001b[0m \u001b[38;5;28mprint\u001b[39m(\u001b[38;5;124mf\u001b[39m\u001b[38;5;124m'\u001b[39m\u001b[38;5;124m입력하신 \u001b[39m\u001b[38;5;132;01m{\u001b[39;00mnumber\u001b[38;5;132;01m}\u001b[39;00m\u001b[38;5;124m의 세제곱은 \u001b[39m\u001b[38;5;132;01m{\u001b[39;00mnumber\u001b[38;5;241m*\u001b[39m\u001b[38;5;241m*\u001b[39m\u001b[38;5;241m3\u001b[39m\u001b[38;5;132;01m}\u001b[39;00m\u001b[38;5;124m입니다.\u001b[39m\u001b[38;5;124m'\u001b[39m)\n",
      "\u001b[1;31mValueError\u001b[0m: invalid literal for int() with base 10: '백릇당'"
     ]
    }
   ],
   "source": [
    "number = int(input('숫자를 입력해주세요'))\n",
    "print(f'입력하신 {number}의 세제곱은 {number**3}입니다.')"
   ]
  },
  {
   "cell_type": "code",
   "execution_count": 40,
   "id": "c5046d05-0ff8-4ba9-a051-f4730cab483f",
   "metadata": {},
   "outputs": [
    {
     "ename": "IndentationError",
     "evalue": "expected an indented block after 'try' statement on line 1 (4283952282.py, line 2)",
     "output_type": "error",
     "traceback": [
      "\u001b[1;36m  Cell \u001b[1;32mIn[40], line 2\u001b[1;36m\u001b[0m\n\u001b[1;33m    number = int(input('숫자를 입력해주세요'))\u001b[0m\n\u001b[1;37m    ^\u001b[0m\n\u001b[1;31mIndentationError\u001b[0m\u001b[1;31m:\u001b[0m expected an indented block after 'try' statement on line 1\n"
     ]
    }
   ],
   "source": [
    "try:\n",
    "number = int(input('숫자를 입력해주세요'))\n",
    "    print(f'입력하신 {number}의 세제곱은 {number**3}입니다.')\n",
    "except:\n",
    "    print('숫자하라고!!!!')"
   ]
  },
  {
   "cell_type": "code",
   "execution_count": 41,
   "id": "359dc86e-57de-4648-afb7-be725bad8d40",
   "metadata": {},
   "outputs": [
    {
     "ename": "SyntaxError",
     "evalue": "unterminated f-string literal (detected at line 3) (835947583.py, line 3)",
     "output_type": "error",
     "traceback": [
      "\u001b[1;36m  Cell \u001b[1;32mIn[41], line 3\u001b[1;36m\u001b[0m\n\u001b[1;33m    print(f'100을 {num}으로 나눈 결과는\u001b[0m\n\u001b[1;37m          ^\u001b[0m\n\u001b[1;31mSyntaxError\u001b[0m\u001b[1;31m:\u001b[0m unterminated f-string literal (detected at line 3)\n"
     ]
    }
   ],
   "source": [
    "try:\n",
    "    num = int(input('100을 무엇으로 나누겠습니까?'))\n",
    "    print(f'100을 {num}으로 나눈 결과는 "
   ]
  },
  {
   "cell_type": "code",
   "execution_count": 44,
   "id": "336d561c-8079-44ce-ba09-d50b54cb7883",
   "metadata": {},
   "outputs": [
    {
     "name": "stdout",
     "output_type": "stream",
     "text": [
      "여기는 else 입니다\n"
     ]
    }
   ],
   "source": [
    "try:\n",
    "    numbers = [1, 2, 3]\n",
    "    numbers[1]\n",
    "except:\n",
    "    print('오류입니다')\n",
    "else: \n",
    "    print('여기는 else 입니다')"
   ]
  },
  {
   "cell_type": "code",
   "execution_count": 45,
   "id": "46d05940-ac89-40de-a53b-bc09a69a045c",
   "metadata": {},
   "outputs": [],
   "source": [
    "def my_div(a, b):\n",
    "    try:\n",
    "        return a/b\n",
    "    except (ValueError, TypeError):\n",
    "        return '숫자를 넣어주세요'\n",
    "    except\n",
    "        \n",
    "my_div('1', '2')"
   ]
  },
  {
   "cell_type": "code",
   "execution_count": null,
   "id": "9fd1d998-c3d4-4664-b330-3f5b317a4f8c",
   "metadata": {},
   "outputs": [],
   "source": []
  }
 ],
 "metadata": {
  "kernelspec": {
   "display_name": "Python 3 (ipykernel)",
   "language": "python",
   "name": "python3"
  },
  "language_info": {
   "codemirror_mode": {
    "name": "ipython",
    "version": 3
   },
   "file_extension": ".py",
   "mimetype": "text/x-python",
   "name": "python",
   "nbconvert_exporter": "python",
   "pygments_lexer": "ipython3",
   "version": "3.13.2"
  }
 },
 "nbformat": 4,
 "nbformat_minor": 5
}
